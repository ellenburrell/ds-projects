{
 "cells": [
  {
   "cell_type": "code",
   "execution_count": 1,
   "metadata": {},
   "outputs": [],
   "source": [
    "import numpy as np\n",
    "from datascience import *\n",
    "\n",
    "# These lines set up graphing capabilities.\n",
    "import matplotlib\n",
    "%matplotlib inline\n",
    "import matplotlib.pyplot as plt\n",
    "plt.style.use('fivethirtyeight')\n",
    "import warnings\n",
    "warnings.simplefilter('ignore', FutureWarning)\n"
   ]
  },
  {
   "cell_type": "markdown",
   "metadata": {},
   "source": [
    "1. first upload the data set and create a table"
   ]
  },
  {
   "cell_type": "code",
   "execution_count": 2,
   "metadata": {},
   "outputs": [
    {
     "data": {
      "text/html": [
       "<table border=\"1\" class=\"dataframe\">\n",
       "    <thead>\n",
       "        <tr>\n",
       "            <th>country</th> <th>ej_atlas_issue</th> <th>individual</th> <th>gender</th> <th>episode</th> <th>company_i</th> <th>company_ii</th> <th>company_iii</th> <th>location</th> <th>relevant_family</th> <th>affiliated_env_groups</th> <th>occupation</th> <th>month</th> <th>day</th> <th>year</th> <th>date_comments</th> <th>details_of_encounter</th> <th>activist_demands</th> <th>demands_met</th> <th>explanation</th> <th>affiliated_entities_t_m</th> <th>suspected_perpetrator</th> <th>weapon</th> <th>source</th> <th>media_i</th> <th>media_ii</th> <th>media_iii</th> <th>comments</th>\n",
       "        </tr>\n",
       "    </thead>\n",
       "    <tbody>\n",
       "        <tr>\n",
       "            <td>EXAMPLE</td> <td>Name of conflict                                            </td> <td>Name LastName </td> <td>male  </td> <td>criminalized</td> <td>Company 1                    </td> <td>Company 2              </td> <td>Company 3  </td> <td>City or town         </td> <td>If a fam issue or NA</td> <td>If there are env groups involved or NA</td> <td>occupation of victim</td> <td>December </td> <td>21  </td> <td>2010</td> <td>comment on certainty about the date or NA</td> <td>Short narrrative - what happened? (1 -3 sentences) E.g.  ...</td> <td>E.g. \"Stop the XYZ Hydrodam\"                               </td> <td>ongoing    </td> <td>Longer narrative of issues and outcomes. Example: Proble ...</td> <td>Affiliated entity (e.g., illegal militia, government entity)</td> <td>Eg, police, company owners, name of perpetrator, or NA</td> <td>weapon or NA</td> <td>URL to source                                               </td> <td>other URLs used                                             </td> <td>other URLs used                                             </td> <td>other URLs used                                          </td> <td>Your comments or NA                                      </td>\n",
       "        </tr>\n",
       "        <tr>\n",
       "            <td>IDN    </td> <td>Killing of indigenous people in Mesuji in South Sumatera    </td> <td>unnamed victum</td> <td>nan   </td> <td>murdered    </td> <td>PT Treekreasi Margamulya (TM)</td> <td>Sumber Wangi Alam (SWA)</td> <td>nan        </td> <td>(disctrict of) Mesugi</td> <td>nan                 </td> <td>nan                                   </td> <td>nan                 </td> <td>mid-April</td> <td>nan </td> <td>2011</td> <td>nan                                      </td> <td>Two Companies ( PT Treekreasi Margamulya\n",
       "(TM)/Sumber Wan ...</td> <td>Stop planting oil palms on our land and expoliting our land</td> <td>ongoing    </td> <td>\"The forced planting of oil palm on the indigenous peopl ...</td> <td>nan                                                         </td> <td>special police + palm oil company                     </td> <td>nan         </td> <td>https://uprdoc.ohchr.org/uprweb/downloadfile.aspx?filena ...</td> <td>https://www.forestpeoples.org/sites/fpp/files/publicatio ...</td> <td>http://www.servindi.org/pdf/THE_INDIGENOUS_WORLD_2012.pdf   </td> <td>nan                                                      </td> <td>nan                                                      </td>\n",
       "        </tr>\n",
       "        <tr>\n",
       "            <td>IDN    </td> <td>Killing of indigenous people in Mesuji in South Sumatera    </td> <td>unnamed victum</td> <td>nan   </td> <td>murdered    </td> <td>PT Treekreasi Margamulya (TM)</td> <td>Sumber Wangi Alam (SWA)</td> <td>nan        </td> <td>(disctrict of) Mesugi</td> <td>nan                 </td> <td>nan                                   </td> <td>nan                 </td> <td>mid-April</td> <td>nan </td> <td>2011</td> <td>nan                                      </td> <td>Two Companies ( PT Treekreasi Margamulya\n",
       "(TM)/Sumber Wan ...</td> <td>Stop planting oil palms on our land and expoliting our land</td> <td>ongoing    </td> <td>\"The forced planting of oil palm on the indigenous peopl ...</td> <td>nan                                                         </td> <td>special police + palm oil company                     </td> <td>nan         </td> <td>https://uprdoc.ohchr.org/uprweb/downloadfile.aspx?filena ...</td> <td>https://www.forestpeoples.org/sites/fpp/files/publicatio ...</td> <td>http://www.servindi.org/pdf/THE_INDIGENOUS_WORLD_2012.pdf   </td> <td>nan                                                      </td> <td>nan                                                      </td>\n",
       "        </tr>\n",
       "        <tr>\n",
       "            <td>IDN    </td> <td>Killing of indigenous people in Mesuji in South Sumatera    </td> <td>unnamed victum</td> <td>nan   </td> <td>murdered    </td> <td>PT Treekreasi Margamulya (TM)</td> <td>Sumber Wangi Alam (SWA)</td> <td>nan        </td> <td>(disctrict of) Mesugi</td> <td>nan                 </td> <td>nan                                   </td> <td>nan                 </td> <td>mid-April</td> <td>nan </td> <td>2011</td> <td>nan                                      </td> <td>Two Companies ( PT Treekreasi Margamulya\n",
       "(TM)/Sumber Wan ...</td> <td>Stop planting oil palms on our land and expoliting our land</td> <td>ongoing    </td> <td>\"The forced planting of oil palm on the indigenous peopl ...</td> <td>nan                                                         </td> <td>special police + palm oil company                     </td> <td>nan         </td> <td>https://uprdoc.ohchr.org/uprweb/downloadfile.aspx?filena ...</td> <td>https://www.forestpeoples.org/sites/fpp/files/publicatio ...</td> <td>http://www.servindi.org/pdf/THE_INDIGENOUS_WORLD_2012.pdf   </td> <td>nan                                                      </td> <td>nan                                                      </td>\n",
       "        </tr>\n",
       "        <tr>\n",
       "            <td>IDN    </td> <td>Killing of indigenous people in Mesuji in South Sumatera    </td> <td>unnamed victum</td> <td>nan   </td> <td>murdered    </td> <td>PT Treekreasi Margamulya (TM)</td> <td>Sumber Wangi Alam (SWA)</td> <td>nan        </td> <td>(disctrict of) Mesugi</td> <td>nan                 </td> <td>nan                                   </td> <td>nan                 </td> <td>mid-April</td> <td>nan </td> <td>2011</td> <td>nan                                      </td> <td>Two Companies ( PT Treekreasi Margamulya\n",
       "(TM)/Sumber Wan ...</td> <td>Stop planting oil palms on our land and expoliting our land</td> <td>ongoing    </td> <td>\"The forced planting of oil palm on the indigenous peopl ...</td> <td>nan                                                         </td> <td>special police + palm oil company                     </td> <td>nan         </td> <td>https://uprdoc.ohchr.org/uprweb/downloadfile.aspx?filena ...</td> <td>https://www.forestpeoples.org/sites/fpp/files/publicatio ...</td> <td>http://www.servindi.org/pdf/THE_INDIGENOUS_WORLD_2012.pdf   </td> <td>nan                                                      </td> <td>nan                                                      </td>\n",
       "        </tr>\n",
       "        <tr>\n",
       "            <td>IDN    </td> <td>Killing of indigenous people in Mesuji in South Sumatera    </td> <td>unnamed victum</td> <td>nan   </td> <td>murdered    </td> <td>PT Treekreasi Margamulya (TM)</td> <td>Sumber Wangi Alam (SWA)</td> <td>nan        </td> <td>(disctrict of) Mesugi</td> <td>nan                 </td> <td>nan                                   </td> <td>nan                 </td> <td>mid-April</td> <td>nan </td> <td>2011</td> <td>nan                                      </td> <td>Two Companies ( PT Treekreasi Margamulya\n",
       "(TM)/Sumber Wan ...</td> <td>Stop planting oil palms on our land and expoliting our land</td> <td>ongoing    </td> <td>\"The forced planting of oil palm on the indigenous peopl ...</td> <td>nan                                                         </td> <td>special police + palm oil company                     </td> <td>nan         </td> <td>https://uprdoc.ohchr.org/uprweb/downloadfile.aspx?filena ...</td> <td>https://www.forestpeoples.org/sites/fpp/files/publicatio ...</td> <td>http://www.servindi.org/pdf/THE_INDIGENOUS_WORLD_2012.pdf   </td> <td>nan                                                      </td> <td>nan                                                      </td>\n",
       "        </tr>\n",
       "        <tr>\n",
       "            <td>IDN    </td> <td>Killing of indigenous people in Mesuji in South Sumatera    </td> <td>unnamed victum</td> <td>nan   </td> <td>murdered    </td> <td>PT Treekreasi Margamulya (TM)</td> <td>Sumber Wangi Alam (SWA)</td> <td>nan        </td> <td>(disctrict of) Mesugi</td> <td>nan                 </td> <td>nan                                   </td> <td>nan                 </td> <td>mid-April</td> <td>nan </td> <td>2011</td> <td>nan                                      </td> <td>Two Companies ( PT Treekreasi Margamulya\n",
       "(TM)/Sumber Wan ...</td> <td>Stop planting oil palms on our land and expoliting our land</td> <td>ongoing    </td> <td>\"The forced planting of oil palm on the indigenous peopl ...</td> <td>nan                                                         </td> <td>special police + palm oil company                     </td> <td>nan         </td> <td>https://uprdoc.ohchr.org/uprweb/downloadfile.aspx?filena ...</td> <td>https://www.forestpeoples.org/sites/fpp/files/publicatio ...</td> <td>http://www.servindi.org/pdf/THE_INDIGENOUS_WORLD_2012.pdf   </td> <td>nan                                                      </td> <td>nan                                                      </td>\n",
       "        </tr>\n",
       "        <tr>\n",
       "            <td>IDN    </td> <td>Killing of indigenous people in Mesuji in South Sumatera    </td> <td>unnamed victum</td> <td>nan   </td> <td>murdered    </td> <td>PT Treekreasi Margamulya (TM)</td> <td>Sumber Wangi Alam (SWA)</td> <td>nan        </td> <td>(disctrict of) Mesugi</td> <td>nan                 </td> <td>nan                                   </td> <td>nan                 </td> <td>mid-April</td> <td>nan </td> <td>2011</td> <td>nan                                      </td> <td>Two Companies ( PT Treekreasi Margamulya\n",
       "(TM)/Sumber Wan ...</td> <td>Stop planting oil palms on our land and expoliting our land</td> <td>ongoing    </td> <td>\"The forced planting of oil palm on the indigenous peopl ...</td> <td>nan                                                         </td> <td>special police + palm oil company                     </td> <td>nan         </td> <td>https://uprdoc.ohchr.org/uprweb/downloadfile.aspx?filena ...</td> <td>https://www.forestpeoples.org/sites/fpp/files/publicatio ...</td> <td>http://www.servindi.org/pdf/THE_INDIGENOUS_WORLD_2012.pdf   </td> <td>nan                                                      </td> <td>nan                                                      </td>\n",
       "        </tr>\n",
       "        <tr>\n",
       "            <td>IDN    </td> <td>Killing of indigenous peoples in Sungai Sodong in South  ...</td> <td>unnamed victum</td> <td>nan   </td> <td>murdered    </td> <td>PT Treekreasi Margamulya (TM)</td> <td>Sumber Wangi Alam (SWA)</td> <td>nan        </td> <td>Sungai Sodong        </td> <td>nan                 </td> <td>nan                                   </td> <td>nan                 </td> <td>April    </td> <td>21  </td> <td>2011</td> <td>nan                                      </td> <td>Two Companies ( PT Treekreasi Margamulya (TM)/Sumber Wan ...</td> <td>Stop planting oil palms on our land and expoliting our land</td> <td>ongoing    </td> <td>same company as above^^ similar alltercation - Indigeniu ...</td> <td>nan                                                         </td> <td>security guards + special police                      </td> <td>nan         </td> <td>https://uprdoc.ohchr.org/uprweb/downloadfile.aspx?filena ...</td> <td>https://www.forestpeoples.org/sites/fpp/files/publicatio ...</td> <td>https://cprindia.org/sites/default/files/Final%20Indones ...</td> <td>http://www.servindi.org/pdf/THE_INDIGENOUS_WORLD_2012.pdf</td> <td>media # 2 used for location and saying of 'Sungai Sodong'</td>\n",
       "        </tr>\n",
       "        <tr>\n",
       "            <td>IDN    </td> <td>Killing of indigenous peoples in Sungai Sodong in South  ...</td> <td>unnamed victum</td> <td>nan   </td> <td>murdered    </td> <td>PT Treekreasi Margamulya (TM)</td> <td>Sumber Wangi Alam (SWA)</td> <td>nan        </td> <td>Sungai Sodong        </td> <td>nan                 </td> <td>nan                                   </td> <td>nan                 </td> <td>April    </td> <td>21  </td> <td>2011</td> <td>nan                                      </td> <td>Two Companies ( PT Treekreasi Margamulya (TM)/Sumber Wan ...</td> <td>Stop planting oil palms on our land and expoliting our land</td> <td>ongoing    </td> <td>same company as above^^ similar alltercation - Indigeniu ...</td> <td>nan                                                         </td> <td>security guards + special police                      </td> <td>nan         </td> <td>https://uprdoc.ohchr.org/uprweb/downloadfile.aspx?filena ...</td> <td>https://www.forestpeoples.org/sites/fpp/files/publicatio ...</td> <td>https://cprindia.org/sites/default/files/Final%20Indones ...</td> <td>http://www.servindi.org/pdf/THE_INDIGENOUS_WORLD_2012.pdf</td> <td>media # 2 used for location and saying of 'Sungai Sodong'</td>\n",
       "        </tr>\n",
       "    </tbody>\n",
       "</table>\n",
       "<p>... (106 rows omitted)</p>"
      ],
      "text/plain": [
       "country | ej_atlas_issue                                               | individual     | gender | episode      | company_i                     | company_ii              | company_iii | location              | relevant_family      | affiliated_env_groups                  | occupation           | month     | day  | year | date_comments                             | details_of_encounter                                         | activist_demands                                            | demands_met | explanation                                                  | affiliated_entities_t_m                                      | suspected_perpetrator                                  | weapon       | source                                                       | media_i                                                      | media_ii                                                     | media_iii                                                 | comments\n",
       "EXAMPLE | Name of conflict                                             | Name LastName  | male   | criminalized | Company 1                     | Company 2               | Company 3   | City or town          | If a fam issue or NA | If there are env groups involved or NA | occupation of victim | December  | 21   | 2010 | comment on certainty about the date or NA | Short narrrative - what happened? (1 -3 sentences) E.g.  ... | E.g. \"Stop the XYZ Hydrodam\"                                | ongoing     | Longer narrative of issues and outcomes. Example: Proble ... | Affiliated entity (e.g., illegal militia, government entity) | Eg, police, company owners, name of perpetrator, or NA | weapon or NA | URL to source                                                | other URLs used                                              | other URLs used                                              | other URLs used                                           | Your comments or NA\n",
       "IDN     | Killing of indigenous people in Mesuji in South Sumatera     | unnamed victum | nan    | murdered     | PT Treekreasi Margamulya (TM) | Sumber Wangi Alam (SWA) | nan         | (disctrict of) Mesugi | nan                  | nan                                    | nan                  | mid-April | nan  | 2011 | nan                                       | Two Companies ( PT Treekreasi Margamulya\n",
       "(TM)/Sumber Wan ... | Stop planting oil palms on our land and expoliting our land | ongoing     | \"The forced planting of oil palm on the indigenous peopl ... | nan                                                          | special police + palm oil company                      | nan          | https://uprdoc.ohchr.org/uprweb/downloadfile.aspx?filena ... | https://www.forestpeoples.org/sites/fpp/files/publicatio ... | http://www.servindi.org/pdf/THE_INDIGENOUS_WORLD_2012.pdf    | nan                                                       | nan\n",
       "IDN     | Killing of indigenous people in Mesuji in South Sumatera     | unnamed victum | nan    | murdered     | PT Treekreasi Margamulya (TM) | Sumber Wangi Alam (SWA) | nan         | (disctrict of) Mesugi | nan                  | nan                                    | nan                  | mid-April | nan  | 2011 | nan                                       | Two Companies ( PT Treekreasi Margamulya\n",
       "(TM)/Sumber Wan ... | Stop planting oil palms on our land and expoliting our land | ongoing     | \"The forced planting of oil palm on the indigenous peopl ... | nan                                                          | special police + palm oil company                      | nan          | https://uprdoc.ohchr.org/uprweb/downloadfile.aspx?filena ... | https://www.forestpeoples.org/sites/fpp/files/publicatio ... | http://www.servindi.org/pdf/THE_INDIGENOUS_WORLD_2012.pdf    | nan                                                       | nan\n",
       "IDN     | Killing of indigenous people in Mesuji in South Sumatera     | unnamed victum | nan    | murdered     | PT Treekreasi Margamulya (TM) | Sumber Wangi Alam (SWA) | nan         | (disctrict of) Mesugi | nan                  | nan                                    | nan                  | mid-April | nan  | 2011 | nan                                       | Two Companies ( PT Treekreasi Margamulya\n",
       "(TM)/Sumber Wan ... | Stop planting oil palms on our land and expoliting our land | ongoing     | \"The forced planting of oil palm on the indigenous peopl ... | nan                                                          | special police + palm oil company                      | nan          | https://uprdoc.ohchr.org/uprweb/downloadfile.aspx?filena ... | https://www.forestpeoples.org/sites/fpp/files/publicatio ... | http://www.servindi.org/pdf/THE_INDIGENOUS_WORLD_2012.pdf    | nan                                                       | nan\n",
       "IDN     | Killing of indigenous people in Mesuji in South Sumatera     | unnamed victum | nan    | murdered     | PT Treekreasi Margamulya (TM) | Sumber Wangi Alam (SWA) | nan         | (disctrict of) Mesugi | nan                  | nan                                    | nan                  | mid-April | nan  | 2011 | nan                                       | Two Companies ( PT Treekreasi Margamulya\n",
       "(TM)/Sumber Wan ... | Stop planting oil palms on our land and expoliting our land | ongoing     | \"The forced planting of oil palm on the indigenous peopl ... | nan                                                          | special police + palm oil company                      | nan          | https://uprdoc.ohchr.org/uprweb/downloadfile.aspx?filena ... | https://www.forestpeoples.org/sites/fpp/files/publicatio ... | http://www.servindi.org/pdf/THE_INDIGENOUS_WORLD_2012.pdf    | nan                                                       | nan\n",
       "IDN     | Killing of indigenous people in Mesuji in South Sumatera     | unnamed victum | nan    | murdered     | PT Treekreasi Margamulya (TM) | Sumber Wangi Alam (SWA) | nan         | (disctrict of) Mesugi | nan                  | nan                                    | nan                  | mid-April | nan  | 2011 | nan                                       | Two Companies ( PT Treekreasi Margamulya\n",
       "(TM)/Sumber Wan ... | Stop planting oil palms on our land and expoliting our land | ongoing     | \"The forced planting of oil palm on the indigenous peopl ... | nan                                                          | special police + palm oil company                      | nan          | https://uprdoc.ohchr.org/uprweb/downloadfile.aspx?filena ... | https://www.forestpeoples.org/sites/fpp/files/publicatio ... | http://www.servindi.org/pdf/THE_INDIGENOUS_WORLD_2012.pdf    | nan                                                       | nan\n",
       "IDN     | Killing of indigenous people in Mesuji in South Sumatera     | unnamed victum | nan    | murdered     | PT Treekreasi Margamulya (TM) | Sumber Wangi Alam (SWA) | nan         | (disctrict of) Mesugi | nan                  | nan                                    | nan                  | mid-April | nan  | 2011 | nan                                       | Two Companies ( PT Treekreasi Margamulya\n",
       "(TM)/Sumber Wan ... | Stop planting oil palms on our land and expoliting our land | ongoing     | \"The forced planting of oil palm on the indigenous peopl ... | nan                                                          | special police + palm oil company                      | nan          | https://uprdoc.ohchr.org/uprweb/downloadfile.aspx?filena ... | https://www.forestpeoples.org/sites/fpp/files/publicatio ... | http://www.servindi.org/pdf/THE_INDIGENOUS_WORLD_2012.pdf    | nan                                                       | nan\n",
       "IDN     | Killing of indigenous people in Mesuji in South Sumatera     | unnamed victum | nan    | murdered     | PT Treekreasi Margamulya (TM) | Sumber Wangi Alam (SWA) | nan         | (disctrict of) Mesugi | nan                  | nan                                    | nan                  | mid-April | nan  | 2011 | nan                                       | Two Companies ( PT Treekreasi Margamulya\n",
       "(TM)/Sumber Wan ... | Stop planting oil palms on our land and expoliting our land | ongoing     | \"The forced planting of oil palm on the indigenous peopl ... | nan                                                          | special police + palm oil company                      | nan          | https://uprdoc.ohchr.org/uprweb/downloadfile.aspx?filena ... | https://www.forestpeoples.org/sites/fpp/files/publicatio ... | http://www.servindi.org/pdf/THE_INDIGENOUS_WORLD_2012.pdf    | nan                                                       | nan\n",
       "IDN     | Killing of indigenous peoples in Sungai Sodong in South  ... | unnamed victum | nan    | murdered     | PT Treekreasi Margamulya (TM) | Sumber Wangi Alam (SWA) | nan         | Sungai Sodong         | nan                  | nan                                    | nan                  | April     | 21   | 2011 | nan                                       | Two Companies ( PT Treekreasi Margamulya (TM)/Sumber Wan ... | Stop planting oil palms on our land and expoliting our land | ongoing     | same company as above^^ similar alltercation - Indigeniu ... | nan                                                          | security guards + special police                       | nan          | https://uprdoc.ohchr.org/uprweb/downloadfile.aspx?filena ... | https://www.forestpeoples.org/sites/fpp/files/publicatio ... | https://cprindia.org/sites/default/files/Final%20Indones ... | http://www.servindi.org/pdf/THE_INDIGENOUS_WORLD_2012.pdf | media # 2 used for location and saying of 'Sungai Sodong'\n",
       "IDN     | Killing of indigenous peoples in Sungai Sodong in South  ... | unnamed victum | nan    | murdered     | PT Treekreasi Margamulya (TM) | Sumber Wangi Alam (SWA) | nan         | Sungai Sodong         | nan                  | nan                                    | nan                  | April     | 21   | 2011 | nan                                       | Two Companies ( PT Treekreasi Margamulya (TM)/Sumber Wan ... | Stop planting oil palms on our land and expoliting our land | ongoing     | same company as above^^ similar alltercation - Indigeniu ... | nan                                                          | security guards + special police                       | nan          | https://uprdoc.ohchr.org/uprweb/downloadfile.aspx?filena ... | https://www.forestpeoples.org/sites/fpp/files/publicatio ... | https://cprindia.org/sites/default/files/Final%20Indones ... | http://www.servindi.org/pdf/THE_INDIGENOUS_WORLD_2012.pdf | media # 2 used for location and saying of 'Sungai Sodong'\n",
       "... (106 rows omitted)"
      ]
     },
     "execution_count": 2,
     "metadata": {},
     "output_type": "execute_result"
    }
   ],
   "source": [
    "IND_data = Table().read_table(\"final clean Env_Data_IDN - IDN(trial 3).csv\")\n",
    "IND_data"
   ]
  },
  {
   "cell_type": "markdown",
   "metadata": {},
   "source": [
    "2. Find the column names."
   ]
  },
  {
   "cell_type": "code",
   "execution_count": 3,
   "metadata": {},
   "outputs": [
    {
     "data": {
      "text/plain": [
       "('country',\n",
       " 'ej_atlas_issue',\n",
       " 'individual',\n",
       " 'gender',\n",
       " 'episode',\n",
       " 'company_i',\n",
       " 'company_ii',\n",
       " 'company_iii',\n",
       " 'location',\n",
       " 'relevant_family',\n",
       " 'affiliated_env_groups',\n",
       " 'occupation',\n",
       " 'month',\n",
       " 'day',\n",
       " 'year',\n",
       " 'date_comments',\n",
       " 'details_of_encounter',\n",
       " 'activist_demands',\n",
       " 'demands_met',\n",
       " 'explanation',\n",
       " 'affiliated_entities_t_m',\n",
       " 'suspected_perpetrator',\n",
       " 'weapon',\n",
       " 'source',\n",
       " 'media_i',\n",
       " 'media_ii',\n",
       " 'media_iii',\n",
       " 'comments')"
      ]
     },
     "execution_count": 3,
     "metadata": {},
     "output_type": "execute_result"
    }
   ],
   "source": [
    "column_names = IND_data.labels\n",
    "column_names"
   ]
  },
  {
   "cell_type": "markdown",
   "metadata": {},
   "source": [
    "3. Clean the data and table."
   ]
  },
  {
   "cell_type": "code",
   "execution_count": 4,
   "metadata": {},
   "outputs": [
    {
     "data": {
      "text/html": [
       "<table border=\"1\" class=\"dataframe\">\n",
       "    <thead>\n",
       "        <tr>\n",
       "            <th>country</th> <th>ej_atlas_issue</th> <th>individual</th> <th>gender</th> <th>episode</th> <th>company_i</th> <th>company_ii</th> <th>company_iii</th> <th>location</th> <th>relevant_family</th> <th>affiliated_env_groups</th> <th>occupation</th> <th>month</th> <th>day</th> <th>year</th> <th>date_comments</th> <th>details_of_encounter</th> <th>activist_demands</th> <th>demands_met</th> <th>explanation</th> <th>affiliated_entities_t_m</th> <th>suspected_perpetrator</th> <th>weapon</th> <th>source</th> <th>media_i</th> <th>media_ii</th> <th>media_iii</th> <th>comments</th>\n",
       "        </tr>\n",
       "    </thead>\n",
       "    <tbody>\n",
       "        <tr>\n",
       "            <td>IDN    </td> <td>Killing of indigenous people in Mesuji in South Sumatera    </td> <td>unnamed victum</td> <td>nan   </td> <td>murdered</td> <td>PT Treekreasi Margamulya (TM)</td> <td>Sumber Wangi Alam (SWA)</td> <td>nan        </td> <td>(disctrict of) Mesugi             </td> <td>nan            </td> <td>nan                  </td> <td>nan       </td> <td>mid-April</td> <td>nan </td> <td>2011</td> <td>nan          </td> <td>Two Companies ( PT Treekreasi Margamulya\n",
       "(TM)/Sumber Wan ...</td> <td>Stop planting oil palms on our land and expoliting our land</td> <td>ongoing    </td> <td>\"The forced planting of oil palm on the indigenous peopl ...</td> <td>nan                    </td> <td>special police + palm oil company</td> <td>nan   </td> <td>https://uprdoc.ohchr.org/uprweb/downloadfile.aspx?filena ...</td> <td>https://www.forestpeoples.org/sites/fpp/files/publicatio ...</td> <td>http://www.servindi.org/pdf/THE_INDIGENOUS_WORLD_2012.pdf   </td> <td>nan                                                      </td> <td>nan                                                      </td>\n",
       "        </tr>\n",
       "        <tr>\n",
       "            <td>IDN    </td> <td>Killing of indigenous people in Mesuji in South Sumatera    </td> <td>unnamed victum</td> <td>nan   </td> <td>murdered</td> <td>PT Treekreasi Margamulya (TM)</td> <td>Sumber Wangi Alam (SWA)</td> <td>nan        </td> <td>(disctrict of) Mesugi             </td> <td>nan            </td> <td>nan                  </td> <td>nan       </td> <td>mid-April</td> <td>nan </td> <td>2011</td> <td>nan          </td> <td>Two Companies ( PT Treekreasi Margamulya\n",
       "(TM)/Sumber Wan ...</td> <td>Stop planting oil palms on our land and expoliting our land</td> <td>ongoing    </td> <td>\"The forced planting of oil palm on the indigenous peopl ...</td> <td>nan                    </td> <td>special police + palm oil company</td> <td>nan   </td> <td>https://uprdoc.ohchr.org/uprweb/downloadfile.aspx?filena ...</td> <td>https://www.forestpeoples.org/sites/fpp/files/publicatio ...</td> <td>http://www.servindi.org/pdf/THE_INDIGENOUS_WORLD_2012.pdf   </td> <td>nan                                                      </td> <td>nan                                                      </td>\n",
       "        </tr>\n",
       "        <tr>\n",
       "            <td>IDN    </td> <td>Killing of indigenous people in Mesuji in South Sumatera    </td> <td>unnamed victum</td> <td>nan   </td> <td>murdered</td> <td>PT Treekreasi Margamulya (TM)</td> <td>Sumber Wangi Alam (SWA)</td> <td>nan        </td> <td>(disctrict of) Mesugi             </td> <td>nan            </td> <td>nan                  </td> <td>nan       </td> <td>mid-April</td> <td>nan </td> <td>2011</td> <td>nan          </td> <td>Two Companies ( PT Treekreasi Margamulya\n",
       "(TM)/Sumber Wan ...</td> <td>Stop planting oil palms on our land and expoliting our land</td> <td>ongoing    </td> <td>\"The forced planting of oil palm on the indigenous peopl ...</td> <td>nan                    </td> <td>special police + palm oil company</td> <td>nan   </td> <td>https://uprdoc.ohchr.org/uprweb/downloadfile.aspx?filena ...</td> <td>https://www.forestpeoples.org/sites/fpp/files/publicatio ...</td> <td>http://www.servindi.org/pdf/THE_INDIGENOUS_WORLD_2012.pdf   </td> <td>nan                                                      </td> <td>nan                                                      </td>\n",
       "        </tr>\n",
       "        <tr>\n",
       "            <td>IDN    </td> <td>Killing of indigenous people in Mesuji in South Sumatera    </td> <td>unnamed victum</td> <td>nan   </td> <td>murdered</td> <td>PT Treekreasi Margamulya (TM)</td> <td>Sumber Wangi Alam (SWA)</td> <td>nan        </td> <td>(disctrict of) Mesugi             </td> <td>nan            </td> <td>nan                  </td> <td>nan       </td> <td>mid-April</td> <td>nan </td> <td>2011</td> <td>nan          </td> <td>Two Companies ( PT Treekreasi Margamulya\n",
       "(TM)/Sumber Wan ...</td> <td>Stop planting oil palms on our land and expoliting our land</td> <td>ongoing    </td> <td>\"The forced planting of oil palm on the indigenous peopl ...</td> <td>nan                    </td> <td>special police + palm oil company</td> <td>nan   </td> <td>https://uprdoc.ohchr.org/uprweb/downloadfile.aspx?filena ...</td> <td>https://www.forestpeoples.org/sites/fpp/files/publicatio ...</td> <td>http://www.servindi.org/pdf/THE_INDIGENOUS_WORLD_2012.pdf   </td> <td>nan                                                      </td> <td>nan                                                      </td>\n",
       "        </tr>\n",
       "        <tr>\n",
       "            <td>IDN    </td> <td>Killing of indigenous people in Mesuji in South Sumatera    </td> <td>unnamed victum</td> <td>nan   </td> <td>murdered</td> <td>PT Treekreasi Margamulya (TM)</td> <td>Sumber Wangi Alam (SWA)</td> <td>nan        </td> <td>(disctrict of) Mesugi             </td> <td>nan            </td> <td>nan                  </td> <td>nan       </td> <td>mid-April</td> <td>nan </td> <td>2011</td> <td>nan          </td> <td>Two Companies ( PT Treekreasi Margamulya\n",
       "(TM)/Sumber Wan ...</td> <td>Stop planting oil palms on our land and expoliting our land</td> <td>ongoing    </td> <td>\"The forced planting of oil palm on the indigenous peopl ...</td> <td>nan                    </td> <td>special police + palm oil company</td> <td>nan   </td> <td>https://uprdoc.ohchr.org/uprweb/downloadfile.aspx?filena ...</td> <td>https://www.forestpeoples.org/sites/fpp/files/publicatio ...</td> <td>http://www.servindi.org/pdf/THE_INDIGENOUS_WORLD_2012.pdf   </td> <td>nan                                                      </td> <td>nan                                                      </td>\n",
       "        </tr>\n",
       "        <tr>\n",
       "            <td>IDN    </td> <td>Killing of indigenous people in Mesuji in South Sumatera    </td> <td>unnamed victum</td> <td>nan   </td> <td>murdered</td> <td>PT Treekreasi Margamulya (TM)</td> <td>Sumber Wangi Alam (SWA)</td> <td>nan        </td> <td>(disctrict of) Mesugi             </td> <td>nan            </td> <td>nan                  </td> <td>nan       </td> <td>mid-April</td> <td>nan </td> <td>2011</td> <td>nan          </td> <td>Two Companies ( PT Treekreasi Margamulya\n",
       "(TM)/Sumber Wan ...</td> <td>Stop planting oil palms on our land and expoliting our land</td> <td>ongoing    </td> <td>\"The forced planting of oil palm on the indigenous peopl ...</td> <td>nan                    </td> <td>special police + palm oil company</td> <td>nan   </td> <td>https://uprdoc.ohchr.org/uprweb/downloadfile.aspx?filena ...</td> <td>https://www.forestpeoples.org/sites/fpp/files/publicatio ...</td> <td>http://www.servindi.org/pdf/THE_INDIGENOUS_WORLD_2012.pdf   </td> <td>nan                                                      </td> <td>nan                                                      </td>\n",
       "        </tr>\n",
       "        <tr>\n",
       "            <td>IDN    </td> <td>Killing of indigenous people in Mesuji in South Sumatera    </td> <td>unnamed victum</td> <td>nan   </td> <td>murdered</td> <td>PT Treekreasi Margamulya (TM)</td> <td>Sumber Wangi Alam (SWA)</td> <td>nan        </td> <td>(disctrict of) Mesugi             </td> <td>nan            </td> <td>nan                  </td> <td>nan       </td> <td>mid-April</td> <td>nan </td> <td>2011</td> <td>nan          </td> <td>Two Companies ( PT Treekreasi Margamulya\n",
       "(TM)/Sumber Wan ...</td> <td>Stop planting oil palms on our land and expoliting our land</td> <td>ongoing    </td> <td>\"The forced planting of oil palm on the indigenous peopl ...</td> <td>nan                    </td> <td>special police + palm oil company</td> <td>nan   </td> <td>https://uprdoc.ohchr.org/uprweb/downloadfile.aspx?filena ...</td> <td>https://www.forestpeoples.org/sites/fpp/files/publicatio ...</td> <td>http://www.servindi.org/pdf/THE_INDIGENOUS_WORLD_2012.pdf   </td> <td>nan                                                      </td> <td>nan                                                      </td>\n",
       "        </tr>\n",
       "        <tr>\n",
       "            <td>IDN    </td> <td>Killing of indigenous peoples in Sungai Sodong in South  ...</td> <td>unnamed victum</td> <td>nan   </td> <td>murdered</td> <td>PT Treekreasi Margamulya (TM)</td> <td>Sumber Wangi Alam (SWA)</td> <td>nan        </td> <td>Sungai Sodong                     </td> <td>nan            </td> <td>nan                  </td> <td>nan       </td> <td>April    </td> <td>21  </td> <td>2011</td> <td>nan          </td> <td>Two Companies ( PT Treekreasi Margamulya (TM)/Sumber Wan ...</td> <td>Stop planting oil palms on our land and expoliting our land</td> <td>ongoing    </td> <td>same company as above^^ similar alltercation - Indigeniu ...</td> <td>nan                    </td> <td>security guards + special police </td> <td>nan   </td> <td>https://uprdoc.ohchr.org/uprweb/downloadfile.aspx?filena ...</td> <td>https://www.forestpeoples.org/sites/fpp/files/publicatio ...</td> <td>https://cprindia.org/sites/default/files/Final%20Indones ...</td> <td>http://www.servindi.org/pdf/THE_INDIGENOUS_WORLD_2012.pdf</td> <td>media # 2 used for location and saying of 'Sungai Sodong'</td>\n",
       "        </tr>\n",
       "        <tr>\n",
       "            <td>IDN    </td> <td>Killing of indigenous peoples in Sungai Sodong in South  ...</td> <td>unnamed victum</td> <td>nan   </td> <td>murdered</td> <td>PT Treekreasi Margamulya (TM)</td> <td>Sumber Wangi Alam (SWA)</td> <td>nan        </td> <td>Sungai Sodong                     </td> <td>nan            </td> <td>nan                  </td> <td>nan       </td> <td>April    </td> <td>21  </td> <td>2011</td> <td>nan          </td> <td>Two Companies ( PT Treekreasi Margamulya (TM)/Sumber Wan ...</td> <td>Stop planting oil palms on our land and expoliting our land</td> <td>ongoing    </td> <td>same company as above^^ similar alltercation - Indigeniu ...</td> <td>nan                    </td> <td>security guards + special police </td> <td>nan   </td> <td>https://uprdoc.ohchr.org/uprweb/downloadfile.aspx?filena ...</td> <td>https://www.forestpeoples.org/sites/fpp/files/publicatio ...</td> <td>https://cprindia.org/sites/default/files/Final%20Indones ...</td> <td>http://www.servindi.org/pdf/THE_INDIGENOUS_WORLD_2012.pdf</td> <td>media # 2 used for location and saying of 'Sungai Sodong'</td>\n",
       "        </tr>\n",
       "        <tr>\n",
       "            <td>IDN    </td> <td>Killing of indigenous peoples in South Sumatera             </td> <td>unnamed victum</td> <td>nan   </td> <td>murdered</td> <td>PT Treekreasi Margamulya (TM)</td> <td>Sumber Wangi Alam (SWA)</td> <td>nan        </td> <td>undefined region in South Sumatera</td> <td>nan            </td> <td>nan                  </td> <td>nan       </td> <td>November </td> <td>11  </td> <td>2011</td> <td>nan          </td> <td>Altercation between local inhabitants and palm oil compa ...</td> <td>nan                                                        </td> <td>ongoing    </td> <td>\"During a clash on 11 November, two people were killed a ...</td> <td>nan                    </td> <td>palm oil company                 </td> <td>gun   </td> <td>https://uprdoc.ohchr.org/uprweb/downloadfile.aspx?filena ...</td> <td>https://www.forestpeoples.org/sites/fpp/files/publicatio ...</td> <td>http://www.servindi.org/pdf/THE_INDIGENOUS_WORLD_2012.pdf   </td> <td>nan                                                      </td> <td>nan                                                      </td>\n",
       "        </tr>\n",
       "    </tbody>\n",
       "</table>\n",
       "<p>... (105 rows omitted)</p>"
      ],
      "text/plain": [
       "country | ej_atlas_issue                                               | individual     | gender | episode  | company_i                     | company_ii              | company_iii | location                           | relevant_family | affiliated_env_groups | occupation | month     | day  | year | date_comments | details_of_encounter                                         | activist_demands                                            | demands_met | explanation                                                  | affiliated_entities_t_m | suspected_perpetrator             | weapon | source                                                       | media_i                                                      | media_ii                                                     | media_iii                                                 | comments\n",
       "IDN     | Killing of indigenous people in Mesuji in South Sumatera     | unnamed victum | nan    | murdered | PT Treekreasi Margamulya (TM) | Sumber Wangi Alam (SWA) | nan         | (disctrict of) Mesugi              | nan             | nan                   | nan        | mid-April | nan  | 2011 | nan           | Two Companies ( PT Treekreasi Margamulya\n",
       "(TM)/Sumber Wan ... | Stop planting oil palms on our land and expoliting our land | ongoing     | \"The forced planting of oil palm on the indigenous peopl ... | nan                     | special police + palm oil company | nan    | https://uprdoc.ohchr.org/uprweb/downloadfile.aspx?filena ... | https://www.forestpeoples.org/sites/fpp/files/publicatio ... | http://www.servindi.org/pdf/THE_INDIGENOUS_WORLD_2012.pdf    | nan                                                       | nan\n",
       "IDN     | Killing of indigenous people in Mesuji in South Sumatera     | unnamed victum | nan    | murdered | PT Treekreasi Margamulya (TM) | Sumber Wangi Alam (SWA) | nan         | (disctrict of) Mesugi              | nan             | nan                   | nan        | mid-April | nan  | 2011 | nan           | Two Companies ( PT Treekreasi Margamulya\n",
       "(TM)/Sumber Wan ... | Stop planting oil palms on our land and expoliting our land | ongoing     | \"The forced planting of oil palm on the indigenous peopl ... | nan                     | special police + palm oil company | nan    | https://uprdoc.ohchr.org/uprweb/downloadfile.aspx?filena ... | https://www.forestpeoples.org/sites/fpp/files/publicatio ... | http://www.servindi.org/pdf/THE_INDIGENOUS_WORLD_2012.pdf    | nan                                                       | nan\n",
       "IDN     | Killing of indigenous people in Mesuji in South Sumatera     | unnamed victum | nan    | murdered | PT Treekreasi Margamulya (TM) | Sumber Wangi Alam (SWA) | nan         | (disctrict of) Mesugi              | nan             | nan                   | nan        | mid-April | nan  | 2011 | nan           | Two Companies ( PT Treekreasi Margamulya\n",
       "(TM)/Sumber Wan ... | Stop planting oil palms on our land and expoliting our land | ongoing     | \"The forced planting of oil palm on the indigenous peopl ... | nan                     | special police + palm oil company | nan    | https://uprdoc.ohchr.org/uprweb/downloadfile.aspx?filena ... | https://www.forestpeoples.org/sites/fpp/files/publicatio ... | http://www.servindi.org/pdf/THE_INDIGENOUS_WORLD_2012.pdf    | nan                                                       | nan\n",
       "IDN     | Killing of indigenous people in Mesuji in South Sumatera     | unnamed victum | nan    | murdered | PT Treekreasi Margamulya (TM) | Sumber Wangi Alam (SWA) | nan         | (disctrict of) Mesugi              | nan             | nan                   | nan        | mid-April | nan  | 2011 | nan           | Two Companies ( PT Treekreasi Margamulya\n",
       "(TM)/Sumber Wan ... | Stop planting oil palms on our land and expoliting our land | ongoing     | \"The forced planting of oil palm on the indigenous peopl ... | nan                     | special police + palm oil company | nan    | https://uprdoc.ohchr.org/uprweb/downloadfile.aspx?filena ... | https://www.forestpeoples.org/sites/fpp/files/publicatio ... | http://www.servindi.org/pdf/THE_INDIGENOUS_WORLD_2012.pdf    | nan                                                       | nan\n",
       "IDN     | Killing of indigenous people in Mesuji in South Sumatera     | unnamed victum | nan    | murdered | PT Treekreasi Margamulya (TM) | Sumber Wangi Alam (SWA) | nan         | (disctrict of) Mesugi              | nan             | nan                   | nan        | mid-April | nan  | 2011 | nan           | Two Companies ( PT Treekreasi Margamulya\n",
       "(TM)/Sumber Wan ... | Stop planting oil palms on our land and expoliting our land | ongoing     | \"The forced planting of oil palm on the indigenous peopl ... | nan                     | special police + palm oil company | nan    | https://uprdoc.ohchr.org/uprweb/downloadfile.aspx?filena ... | https://www.forestpeoples.org/sites/fpp/files/publicatio ... | http://www.servindi.org/pdf/THE_INDIGENOUS_WORLD_2012.pdf    | nan                                                       | nan\n",
       "IDN     | Killing of indigenous people in Mesuji in South Sumatera     | unnamed victum | nan    | murdered | PT Treekreasi Margamulya (TM) | Sumber Wangi Alam (SWA) | nan         | (disctrict of) Mesugi              | nan             | nan                   | nan        | mid-April | nan  | 2011 | nan           | Two Companies ( PT Treekreasi Margamulya\n",
       "(TM)/Sumber Wan ... | Stop planting oil palms on our land and expoliting our land | ongoing     | \"The forced planting of oil palm on the indigenous peopl ... | nan                     | special police + palm oil company | nan    | https://uprdoc.ohchr.org/uprweb/downloadfile.aspx?filena ... | https://www.forestpeoples.org/sites/fpp/files/publicatio ... | http://www.servindi.org/pdf/THE_INDIGENOUS_WORLD_2012.pdf    | nan                                                       | nan\n",
       "IDN     | Killing of indigenous people in Mesuji in South Sumatera     | unnamed victum | nan    | murdered | PT Treekreasi Margamulya (TM) | Sumber Wangi Alam (SWA) | nan         | (disctrict of) Mesugi              | nan             | nan                   | nan        | mid-April | nan  | 2011 | nan           | Two Companies ( PT Treekreasi Margamulya\n",
       "(TM)/Sumber Wan ... | Stop planting oil palms on our land and expoliting our land | ongoing     | \"The forced planting of oil palm on the indigenous peopl ... | nan                     | special police + palm oil company | nan    | https://uprdoc.ohchr.org/uprweb/downloadfile.aspx?filena ... | https://www.forestpeoples.org/sites/fpp/files/publicatio ... | http://www.servindi.org/pdf/THE_INDIGENOUS_WORLD_2012.pdf    | nan                                                       | nan\n",
       "IDN     | Killing of indigenous peoples in Sungai Sodong in South  ... | unnamed victum | nan    | murdered | PT Treekreasi Margamulya (TM) | Sumber Wangi Alam (SWA) | nan         | Sungai Sodong                      | nan             | nan                   | nan        | April     | 21   | 2011 | nan           | Two Companies ( PT Treekreasi Margamulya (TM)/Sumber Wan ... | Stop planting oil palms on our land and expoliting our land | ongoing     | same company as above^^ similar alltercation - Indigeniu ... | nan                     | security guards + special police  | nan    | https://uprdoc.ohchr.org/uprweb/downloadfile.aspx?filena ... | https://www.forestpeoples.org/sites/fpp/files/publicatio ... | https://cprindia.org/sites/default/files/Final%20Indones ... | http://www.servindi.org/pdf/THE_INDIGENOUS_WORLD_2012.pdf | media # 2 used for location and saying of 'Sungai Sodong'\n",
       "IDN     | Killing of indigenous peoples in Sungai Sodong in South  ... | unnamed victum | nan    | murdered | PT Treekreasi Margamulya (TM) | Sumber Wangi Alam (SWA) | nan         | Sungai Sodong                      | nan             | nan                   | nan        | April     | 21   | 2011 | nan           | Two Companies ( PT Treekreasi Margamulya (TM)/Sumber Wan ... | Stop planting oil palms on our land and expoliting our land | ongoing     | same company as above^^ similar alltercation - Indigeniu ... | nan                     | security guards + special police  | nan    | https://uprdoc.ohchr.org/uprweb/downloadfile.aspx?filena ... | https://www.forestpeoples.org/sites/fpp/files/publicatio ... | https://cprindia.org/sites/default/files/Final%20Indones ... | http://www.servindi.org/pdf/THE_INDIGENOUS_WORLD_2012.pdf | media # 2 used for location and saying of 'Sungai Sodong'\n",
       "IDN     | Killing of indigenous peoples in South Sumatera              | unnamed victum | nan    | murdered | PT Treekreasi Margamulya (TM) | Sumber Wangi Alam (SWA) | nan         | undefined region in South Sumatera | nan             | nan                   | nan        | November  | 11   | 2011 | nan           | Altercation between local inhabitants and palm oil compa ... | nan                                                         | ongoing     | \"During a clash on 11 November, two people were killed a ... | nan                     | palm oil company                  | gun    | https://uprdoc.ohchr.org/uprweb/downloadfile.aspx?filena ... | https://www.forestpeoples.org/sites/fpp/files/publicatio ... | http://www.servindi.org/pdf/THE_INDIGENOUS_WORLD_2012.pdf    | nan                                                       | nan\n",
       "... (105 rows omitted)"
      ]
     },
     "execution_count": 4,
     "metadata": {},
     "output_type": "execute_result"
    }
   ],
   "source": [
    "#shows the first row, which is an example that we don't want in our data\n",
    "delete_first_row = IND_data.item(0)\n",
    "#minor cleaning of the data\n",
    "new_table_IND = IND_data.where(\"country\", are.not_equal_to(\"EXAMPLE\"))\n",
    "new_table_IND"
   ]
  },
  {
   "cell_type": "code",
   "execution_count": 5,
   "metadata": {},
   "outputs": [
    {
     "data": {
      "text/html": [
       "<table border=\"1\" class=\"dataframe\">\n",
       "    <thead>\n",
       "        <tr>\n",
       "            <th>ej_atlas_issue</th> <th>count</th>\n",
       "        </tr>\n",
       "    </thead>\n",
       "    <tbody>\n",
       "        <tr>\n",
       "            <td>(2nd) Physical Attack on the indigenous community of the ...</td> <td>15   </td>\n",
       "        </tr>\n",
       "        <tr>\n",
       "            <td>Arrest of Bachtiar M. sabang in South Sulawesi              </td> <td>1    </td>\n",
       "        </tr>\n",
       "        <tr>\n",
       "            <td>Attempted murder of indigenous peoples in South Sumatera    </td> <td>4    </td>\n",
       "        </tr>\n",
       "        <tr>\n",
       "            <td>Burning the settlements of the Tengger tribe                </td> <td>13   </td>\n",
       "        </tr>\n",
       "        <tr>\n",
       "            <td>Detainment of four Tengger residents on charges of fores ...</td> <td>4    </td>\n",
       "        </tr>\n",
       "        <tr>\n",
       "            <td>Killing of indigenous people in Mesuji in South Sumatera    </td> <td>7    </td>\n",
       "        </tr>\n",
       "        <tr>\n",
       "            <td>Killing of indigenous peoples in South Sumatera             </td> <td>2    </td>\n",
       "        </tr>\n",
       "        <tr>\n",
       "            <td>Killing of indigenous peoples in Sungai Sodong in South  ...</td> <td>2    </td>\n",
       "        </tr>\n",
       "        <tr>\n",
       "            <td>Members of the Semende community of Banding Agung, Sumat ...</td> <td>4    </td>\n",
       "        </tr>\n",
       "        <tr>\n",
       "            <td>Physical Attack on the indigenous community of the villa ...</td> <td>5    </td>\n",
       "        </tr>\n",
       "        <tr>\n",
       "            <td>Tungkal Ulu in south sumatera Province imprisonment         </td> <td>5    </td>\n",
       "        </tr>\n",
       "        <tr>\n",
       "            <td>nan                                                         </td> <td>52   </td>\n",
       "        </tr>\n",
       "        <tr>\n",
       "            <td>potentially times 700                                       </td> <td>1    </td>\n",
       "        </tr>\n",
       "    </tbody>\n",
       "</table>"
      ],
      "text/plain": [
       "<IPython.core.display.HTML object>"
      ]
     },
     "metadata": {},
     "output_type": "display_data"
    }
   ],
   "source": [
    "#Let's group the casestudies together\n",
    "companies_involved = new_table_IND.group('ej_atlas_issue')\n",
    "companies_involved.show()"
   ]
  },
  {
   "cell_type": "code",
   "execution_count": 6,
   "metadata": {},
   "outputs": [
    {
     "data": {
      "text/html": [
       "<table border=\"1\" class=\"dataframe\">\n",
       "    <thead>\n",
       "        <tr>\n",
       "            <th>country</th> <th>ej_atlas_issue</th> <th>individual</th> <th>gender</th> <th>episode</th> <th>company_i</th> <th>company_ii</th> <th>company_iii</th> <th>location</th> <th>relevant_family</th> <th>affiliated_env_groups</th> <th>occupation</th> <th>month</th> <th>day</th> <th>year</th> <th>date_comments</th> <th>details_of_encounter</th> <th>activist_demands</th> <th>demands_met</th> <th>explanation</th> <th>affiliated_entities_t_m</th> <th>suspected_perpetrator</th> <th>weapon</th> <th>source</th> <th>media_i</th> <th>media_ii</th> <th>media_iii</th> <th>comments</th>\n",
       "        </tr>\n",
       "    </thead>\n",
       "    <tbody>\n",
       "        <tr>\n",
       "            <td>nan    </td> <td>nan           </td> <td>nan       </td> <td>nan   </td> <td>nan    </td> <td>nan      </td> <td>nan       </td> <td>nan        </td> <td>nan     </td> <td>nan            </td> <td>nan                  </td> <td>nan       </td> <td>nan  </td> <td>nan </td> <td>nan </td> <td>nan          </td> <td>nan                 </td> <td>nan             </td> <td>nan        </td> <td>nan        </td> <td>nan                    </td> <td>nan                  </td> <td>nan   </td> <td>nan   </td> <td>nan    </td> <td>nan     </td> <td>nan      </td> <td>nan     </td>\n",
       "        </tr>\n",
       "        <tr>\n",
       "            <td>nan    </td> <td>nan           </td> <td>nan       </td> <td>nan   </td> <td>nan    </td> <td>nan      </td> <td>nan       </td> <td>nan        </td> <td>nan     </td> <td>nan            </td> <td>nan                  </td> <td>nan       </td> <td>nan  </td> <td>nan </td> <td>nan </td> <td>nan          </td> <td>nan                 </td> <td>nan             </td> <td>nan        </td> <td>nan        </td> <td>nan                    </td> <td>nan                  </td> <td>nan   </td> <td>nan   </td> <td>nan    </td> <td>nan     </td> <td>nan      </td> <td>nan     </td>\n",
       "        </tr>\n",
       "        <tr>\n",
       "            <td>nan    </td> <td>nan           </td> <td>nan       </td> <td>nan   </td> <td>nan    </td> <td>nan      </td> <td>nan       </td> <td>nan        </td> <td>nan     </td> <td>nan            </td> <td>nan                  </td> <td>nan       </td> <td>nan  </td> <td>nan </td> <td>nan </td> <td>nan          </td> <td>nan                 </td> <td>nan             </td> <td>nan        </td> <td>nan        </td> <td>nan                    </td> <td>nan                  </td> <td>nan   </td> <td>nan   </td> <td>nan    </td> <td>nan     </td> <td>nan      </td> <td>nan     </td>\n",
       "        </tr>\n",
       "        <tr>\n",
       "            <td>nan    </td> <td>nan           </td> <td>nan       </td> <td>nan   </td> <td>nan    </td> <td>nan      </td> <td>nan       </td> <td>nan        </td> <td>nan     </td> <td>nan            </td> <td>nan                  </td> <td>nan       </td> <td>nan  </td> <td>nan </td> <td>nan </td> <td>nan          </td> <td>nan                 </td> <td>nan             </td> <td>nan        </td> <td>nan        </td> <td>nan                    </td> <td>nan                  </td> <td>nan   </td> <td>nan   </td> <td>nan    </td> <td>nan     </td> <td>nan      </td> <td>nan     </td>\n",
       "        </tr>\n",
       "        <tr>\n",
       "            <td>nan    </td> <td>nan           </td> <td>nan       </td> <td>nan   </td> <td>nan    </td> <td>nan      </td> <td>nan       </td> <td>nan        </td> <td>nan     </td> <td>nan            </td> <td>nan                  </td> <td>nan       </td> <td>nan  </td> <td>nan </td> <td>nan </td> <td>nan          </td> <td>nan                 </td> <td>nan             </td> <td>nan        </td> <td>nan        </td> <td>nan                    </td> <td>nan                  </td> <td>nan   </td> <td>nan   </td> <td>nan    </td> <td>nan     </td> <td>nan      </td> <td>nan     </td>\n",
       "        </tr>\n",
       "        <tr>\n",
       "            <td>nan    </td> <td>nan           </td> <td>nan       </td> <td>nan   </td> <td>nan    </td> <td>nan      </td> <td>nan       </td> <td>nan        </td> <td>nan     </td> <td>nan            </td> <td>nan                  </td> <td>nan       </td> <td>nan  </td> <td>nan </td> <td>nan </td> <td>nan          </td> <td>nan                 </td> <td>nan             </td> <td>nan        </td> <td>nan        </td> <td>nan                    </td> <td>nan                  </td> <td>nan   </td> <td>nan   </td> <td>nan    </td> <td>nan     </td> <td>nan      </td> <td>nan     </td>\n",
       "        </tr>\n",
       "        <tr>\n",
       "            <td>nan    </td> <td>nan           </td> <td>nan       </td> <td>nan   </td> <td>nan    </td> <td>nan      </td> <td>nan       </td> <td>nan        </td> <td>nan     </td> <td>nan            </td> <td>nan                  </td> <td>nan       </td> <td>nan  </td> <td>nan </td> <td>nan </td> <td>nan          </td> <td>nan                 </td> <td>nan             </td> <td>nan        </td> <td>nan        </td> <td>nan                    </td> <td>nan                  </td> <td>nan   </td> <td>nan   </td> <td>nan    </td> <td>nan     </td> <td>nan      </td> <td>nan     </td>\n",
       "        </tr>\n",
       "        <tr>\n",
       "            <td>nan    </td> <td>nan           </td> <td>nan       </td> <td>nan   </td> <td>nan    </td> <td>nan      </td> <td>nan       </td> <td>nan        </td> <td>nan     </td> <td>nan            </td> <td>nan                  </td> <td>nan       </td> <td>nan  </td> <td>nan </td> <td>nan </td> <td>nan          </td> <td>nan                 </td> <td>nan             </td> <td>nan        </td> <td>nan        </td> <td>nan                    </td> <td>nan                  </td> <td>nan   </td> <td>nan   </td> <td>nan    </td> <td>nan     </td> <td>nan      </td> <td>nan     </td>\n",
       "        </tr>\n",
       "        <tr>\n",
       "            <td>nan    </td> <td>nan           </td> <td>nan       </td> <td>nan   </td> <td>nan    </td> <td>nan      </td> <td>nan       </td> <td>nan        </td> <td>nan     </td> <td>nan            </td> <td>nan                  </td> <td>nan       </td> <td>nan  </td> <td>nan </td> <td>nan </td> <td>nan          </td> <td>nan                 </td> <td>nan             </td> <td>nan        </td> <td>nan        </td> <td>nan                    </td> <td>nan                  </td> <td>nan   </td> <td>nan   </td> <td>nan    </td> <td>nan     </td> <td>nan      </td> <td>nan     </td>\n",
       "        </tr>\n",
       "        <tr>\n",
       "            <td>nan    </td> <td>nan           </td> <td>nan       </td> <td>nan   </td> <td>nan    </td> <td>nan      </td> <td>nan       </td> <td>nan        </td> <td>nan     </td> <td>nan            </td> <td>nan                  </td> <td>nan       </td> <td>nan  </td> <td>nan </td> <td>nan </td> <td>nan          </td> <td>nan                 </td> <td>nan             </td> <td>nan        </td> <td>nan        </td> <td>nan                    </td> <td>nan                  </td> <td>nan   </td> <td>nan   </td> <td>nan    </td> <td>nan     </td> <td>nan      </td> <td>nan     </td>\n",
       "        </tr>\n",
       "    </tbody>\n",
       "</table>\n",
       "<p>... (42 rows omitted)</p>"
      ],
      "text/plain": [
       "country | ej_atlas_issue | individual | gender | episode | company_i | company_ii | company_iii | location | relevant_family | affiliated_env_groups | occupation | month | day  | year | date_comments | details_of_encounter | activist_demands | demands_met | explanation | affiliated_entities_t_m | suspected_perpetrator | weapon | source | media_i | media_ii | media_iii | comments\n",
       "nan     | nan            | nan        | nan    | nan     | nan       | nan        | nan         | nan      | nan             | nan                   | nan        | nan   | nan  | nan  | nan           | nan                  | nan              | nan         | nan         | nan                     | nan                   | nan    | nan    | nan     | nan      | nan       | nan\n",
       "nan     | nan            | nan        | nan    | nan     | nan       | nan        | nan         | nan      | nan             | nan                   | nan        | nan   | nan  | nan  | nan           | nan                  | nan              | nan         | nan         | nan                     | nan                   | nan    | nan    | nan     | nan      | nan       | nan\n",
       "nan     | nan            | nan        | nan    | nan     | nan       | nan        | nan         | nan      | nan             | nan                   | nan        | nan   | nan  | nan  | nan           | nan                  | nan              | nan         | nan         | nan                     | nan                   | nan    | nan    | nan     | nan      | nan       | nan\n",
       "nan     | nan            | nan        | nan    | nan     | nan       | nan        | nan         | nan      | nan             | nan                   | nan        | nan   | nan  | nan  | nan           | nan                  | nan              | nan         | nan         | nan                     | nan                   | nan    | nan    | nan     | nan      | nan       | nan\n",
       "nan     | nan            | nan        | nan    | nan     | nan       | nan        | nan         | nan      | nan             | nan                   | nan        | nan   | nan  | nan  | nan           | nan                  | nan              | nan         | nan         | nan                     | nan                   | nan    | nan    | nan     | nan      | nan       | nan\n",
       "nan     | nan            | nan        | nan    | nan     | nan       | nan        | nan         | nan      | nan             | nan                   | nan        | nan   | nan  | nan  | nan           | nan                  | nan              | nan         | nan         | nan                     | nan                   | nan    | nan    | nan     | nan      | nan       | nan\n",
       "nan     | nan            | nan        | nan    | nan     | nan       | nan        | nan         | nan      | nan             | nan                   | nan        | nan   | nan  | nan  | nan           | nan                  | nan              | nan         | nan         | nan                     | nan                   | nan    | nan    | nan     | nan      | nan       | nan\n",
       "nan     | nan            | nan        | nan    | nan     | nan       | nan        | nan         | nan      | nan             | nan                   | nan        | nan   | nan  | nan  | nan           | nan                  | nan              | nan         | nan         | nan                     | nan                   | nan    | nan    | nan     | nan      | nan       | nan\n",
       "nan     | nan            | nan        | nan    | nan     | nan       | nan        | nan         | nan      | nan             | nan                   | nan        | nan   | nan  | nan  | nan           | nan                  | nan              | nan         | nan         | nan                     | nan                   | nan    | nan    | nan     | nan      | nan       | nan\n",
       "nan     | nan            | nan        | nan    | nan     | nan       | nan        | nan         | nan      | nan             | nan                   | nan        | nan   | nan  | nan  | nan           | nan                  | nan              | nan         | nan         | nan                     | nan                   | nan    | nan    | nan     | nan      | nan       | nan\n",
       "... (42 rows omitted)"
      ]
     },
     "execution_count": 6,
     "metadata": {},
     "output_type": "execute_result"
    }
   ],
   "source": [
    "#We find this random extra group of 22 rows with no values - we can delete this part.\n",
    "random_nan = companies_involved.where(\"ej_atlas_issue\", are.equal_to('nan'))\n",
    "random_nan\n",
    "random_nan_1 = new_table_IND.where(\"ej_atlas_issue\", are.equal_to('nan'))\n",
    "random_nan_1"
   ]
  },
  {
   "cell_type": "code",
   "execution_count": 7,
   "metadata": {},
   "outputs": [
    {
     "data": {
      "text/html": [
       "<table border=\"1\" class=\"dataframe\">\n",
       "    <thead>\n",
       "        <tr>\n",
       "            <th>ej_atlas_issue</th> <th>count</th>\n",
       "        </tr>\n",
       "    </thead>\n",
       "    <tbody>\n",
       "        <tr>\n",
       "            <td>(2nd) Physical Attack on the indigenous community of the ...</td> <td>15   </td>\n",
       "        </tr>\n",
       "        <tr>\n",
       "            <td>Arrest of Bachtiar M. sabang in South Sulawesi              </td> <td>1    </td>\n",
       "        </tr>\n",
       "        <tr>\n",
       "            <td>Attempted murder of indigenous peoples in South Sumatera    </td> <td>4    </td>\n",
       "        </tr>\n",
       "        <tr>\n",
       "            <td>Burning the settlements of the Tengger tribe                </td> <td>13   </td>\n",
       "        </tr>\n",
       "        <tr>\n",
       "            <td>Detainment of four Tengger residents on charges of fores ...</td> <td>4    </td>\n",
       "        </tr>\n",
       "        <tr>\n",
       "            <td>Killing of indigenous people in Mesuji in South Sumatera    </td> <td>7    </td>\n",
       "        </tr>\n",
       "        <tr>\n",
       "            <td>Killing of indigenous peoples in South Sumatera             </td> <td>2    </td>\n",
       "        </tr>\n",
       "        <tr>\n",
       "            <td>Killing of indigenous peoples in Sungai Sodong in South  ...</td> <td>2    </td>\n",
       "        </tr>\n",
       "        <tr>\n",
       "            <td>Members of the Semende community of Banding Agung, Sumat ...</td> <td>4    </td>\n",
       "        </tr>\n",
       "        <tr>\n",
       "            <td>Physical Attack on the indigenous community of the villa ...</td> <td>5    </td>\n",
       "        </tr>\n",
       "        <tr>\n",
       "            <td>Tungkal Ulu in south sumatera Province imprisonment         </td> <td>5    </td>\n",
       "        </tr>\n",
       "    </tbody>\n",
       "</table>"
      ],
      "text/plain": [
       "<IPython.core.display.HTML object>"
      ]
     },
     "metadata": {},
     "output_type": "display_data"
    }
   ],
   "source": [
    "#new_table_IND.show()\n",
    "cleaned_table = new_table_IND.where('country', are.equal_to('IDN'))\n",
    "cleaned_table = cleaned_table.where('ej_atlas_issue', are.not_equal_to('potenitally 700 times'))\n",
    "ej_atlas_issue = cleaned_table.group('ej_atlas_issue')\n",
    "ej_atlas_issue.show()\n",
    "#cleaned_table.column('country')\n",
    "#cleaned_table.show()\n",
    "\n",
    "\n",
    "#election_1972_to_2016_final = election_1972_to_2016.where('State', are.not_equal_to('State'))\n",
    "#election_1972_to_2016_final"
   ]
  },
  {
   "cell_type": "markdown",
   "metadata": {},
   "source": [
    "4. Let's look at the companies involved. What does 'PT' and why does it keep showing up?"
   ]
  },
  {
   "cell_type": "code",
   "execution_count": 8,
   "metadata": {},
   "outputs": [
    {
     "name": "stderr",
     "output_type": "stream",
     "text": [
      "/opt/conda/lib/python3.7/site-packages/datascience/tables.py:920: VisibleDeprecationWarning: Creating an ndarray from ragged nested sequences (which is a list-or-tuple of lists-or-tuples-or ndarrays with different lengths or shapes) is deprecated. If you meant to do this, you must specify 'dtype=object' when creating the ndarray\n",
      "  values = np.array(tuple(values))\n"
     ]
    },
    {
     "data": {
      "text/html": [
       "<table border=\"1\" class=\"dataframe\">\n",
       "    <thead>\n",
       "        <tr>\n",
       "            <th>company_i</th> <th>company_ii</th> <th>company_iii</th> <th>count</th>\n",
       "        </tr>\n",
       "    </thead>\n",
       "    <tbody>\n",
       "        <tr>\n",
       "            <td>PT Treekreasi Margamulya (TM)                   </td> <td>Sumber Wangi Alam (SWA)</td> <td>nan        </td> <td>15   </td>\n",
       "        </tr>\n",
       "        <tr>\n",
       "            <td>PTPN 2 (state-owned plantation company)         </td> <td>nan                    </td> <td>nan        </td> <td>20   </td>\n",
       "        </tr>\n",
       "        <tr>\n",
       "            <td>Perhutani Lumajang (state-owned logging company)</td> <td>nan                    </td> <td>nan        </td> <td>17   </td>\n",
       "        </tr>\n",
       "        <tr>\n",
       "            <td>nan                                             </td> <td>nan                    </td> <td>nan        </td> <td>10   </td>\n",
       "        </tr>\n",
       "    </tbody>\n",
       "</table>"
      ],
      "text/plain": [
       "company_i                                        | company_ii              | company_iii | count\n",
       "PT Treekreasi Margamulya (TM)                    | Sumber Wangi Alam (SWA) | nan         | 15\n",
       "PTPN 2 (state-owned plantation company)          | nan                     | nan         | 20\n",
       "Perhutani Lumajang (state-owned logging company) | nan                     | nan         | 17\n",
       "nan                                              | nan                     | nan         | 10"
      ]
     },
     "execution_count": 8,
     "metadata": {},
     "output_type": "execute_result"
    }
   ],
   "source": [
    "companies_involved = cleaned_table.group(make_array('company_i', 'company_ii', 'company_iii'))\n",
    "companies_involved"
   ]
  },
  {
   "cell_type": "markdown",
   "metadata": {},
   "source": [
    "\"PT is an acronym for Perseroan Terbatas, a term that represents a limited liability company in Indonesia. Also known as a foreign investment limited liability company, a Perseroan Terbatas (PT) is a business entity that allows foreign investors to conduct commercial activities in Indonesia.\""
   ]
  },
  {
   "cell_type": "markdown",
   "metadata": {},
   "source": [
    "5. Let's look at each of the variables and the method of attacks corelated. "
   ]
  },
  {
   "cell_type": "code",
   "execution_count": 9,
   "metadata": {},
   "outputs": [
    {
     "data": {
      "text/html": [
       "<table border=\"1\" class=\"dataframe\">\n",
       "    <thead>\n",
       "        <tr>\n",
       "            <th>company_i</th> <th>company_ii</th> <th>company_iii</th> <th>episode</th> <th>year</th> <th>count</th>\n",
       "        </tr>\n",
       "    </thead>\n",
       "    <tbody>\n",
       "        <tr>\n",
       "            <td>PT Treekreasi Margamulya (TM)                   </td> <td>Sumber Wangi Alam (SWA)</td> <td>nan        </td> <td>att_murder  </td> <td>2011</td> <td>4    </td>\n",
       "        </tr>\n",
       "        <tr>\n",
       "            <td>PT Treekreasi Margamulya (TM)                   </td> <td>Sumber Wangi Alam (SWA)</td> <td>nan        </td> <td>murdered    </td> <td>2011</td> <td>11   </td>\n",
       "        </tr>\n",
       "        <tr>\n",
       "            <td>PTPN 2 (state-owned plantation company)         </td> <td>nan                    </td> <td>nan        </td> <td>attacked    </td> <td>2011</td> <td>20   </td>\n",
       "        </tr>\n",
       "        <tr>\n",
       "            <td>Perhutani Lumajang (state-owned logging company)</td> <td>nan                    </td> <td>nan        </td> <td>criminalized</td> <td>2011</td> <td>4    </td>\n",
       "        </tr>\n",
       "        <tr>\n",
       "            <td>Perhutani Lumajang (state-owned logging company)</td> <td>nan                    </td> <td>nan        </td> <td>threatened  </td> <td>2011</td> <td>13   </td>\n",
       "        </tr>\n",
       "        <tr>\n",
       "            <td>nan                                             </td> <td>nan                    </td> <td>nan        </td> <td>criminalized</td> <td>2014</td> <td>10   </td>\n",
       "        </tr>\n",
       "    </tbody>\n",
       "</table>"
      ],
      "text/plain": [
       "company_i                                        | company_ii              | company_iii | episode      | year | count\n",
       "PT Treekreasi Margamulya (TM)                    | Sumber Wangi Alam (SWA) | nan         | att_murder   | 2011 | 4\n",
       "PT Treekreasi Margamulya (TM)                    | Sumber Wangi Alam (SWA) | nan         | murdered     | 2011 | 11\n",
       "PTPN 2 (state-owned plantation company)          | nan                     | nan         | attacked     | 2011 | 20\n",
       "Perhutani Lumajang (state-owned logging company) | nan                     | nan         | criminalized | 2011 | 4\n",
       "Perhutani Lumajang (state-owned logging company) | nan                     | nan         | threatened   | 2011 | 13\n",
       "nan                                              | nan                     | nan         | criminalized | 2014 | 10"
      ]
     },
     "execution_count": 9,
     "metadata": {},
     "output_type": "execute_result"
    }
   ],
   "source": [
    "companies_involved_with_murder = cleaned_table.group(make_array('company_i', 'company_ii', 'company_iii','episode', 'year'))\n",
    "companies_involved_with_murder"
   ]
  },
  {
   "cell_type": "code",
   "execution_count": 10,
   "metadata": {
    "scrolled": true
   },
   "outputs": [
    {
     "data": {
      "text/html": [
       "<table border=\"1\" class=\"dataframe\">\n",
       "    <thead>\n",
       "        <tr>\n",
       "            <th>episode</th> <th>gender</th> <th>count</th>\n",
       "        </tr>\n",
       "    </thead>\n",
       "    <tbody>\n",
       "        <tr>\n",
       "            <td>attacked    </td> <td>nan   </td> <td>20   </td>\n",
       "        </tr>\n",
       "        <tr>\n",
       "            <td>threatened  </td> <td>nan   </td> <td>13   </td>\n",
       "        </tr>\n",
       "        <tr>\n",
       "            <td>criminalized</td> <td>nan   </td> <td>12   </td>\n",
       "        </tr>\n",
       "        <tr>\n",
       "            <td>murdered    </td> <td>nan   </td> <td>11   </td>\n",
       "        </tr>\n",
       "        <tr>\n",
       "            <td>att_murder  </td> <td>nan   </td> <td>4    </td>\n",
       "        </tr>\n",
       "        <tr>\n",
       "            <td>criminalized</td> <td>male  </td> <td>2    </td>\n",
       "        </tr>\n",
       "        <tr>\n",
       "            <td>SUM         </td> <td>NA    </td> <td>62   </td>\n",
       "        </tr>\n",
       "    </tbody>\n",
       "</table>"
      ],
      "text/plain": [
       "episode      | gender | count\n",
       "attacked     | nan    | 20\n",
       "threatened   | nan    | 13\n",
       "criminalized | nan    | 12\n",
       "murdered     | nan    | 11\n",
       "att_murder   | nan    | 4\n",
       "criminalized | male   | 2\n",
       "SUM          | NA     | 62"
      ]
     },
     "execution_count": 10,
     "metadata": {},
     "output_type": "execute_result"
    }
   ],
   "source": [
    "gender_by_episode = cleaned_table.group(make_array('episode','gender'))\n",
    "gender_by_episode = gender_by_episode.sort('count', descending = True)\n",
    "count = gender_by_episode.column('count')\n",
    "totalcount = sum(count)\n",
    "totalcount\n",
    "gender_by_episode = gender_by_episode.with_row(make_array('SUM', 'NA', totalcount))\n",
    "gender_by_episode"
   ]
  },
  {
   "cell_type": "code",
   "execution_count": 11,
   "metadata": {},
   "outputs": [
    {
     "data": {
      "text/html": [
       "<table border=\"1\" class=\"dataframe\">\n",
       "    <thead>\n",
       "        <tr>\n",
       "            <th>episode</th> <th>demands_met</th> <th>count</th>\n",
       "        </tr>\n",
       "    </thead>\n",
       "    <tbody>\n",
       "        <tr>\n",
       "            <td>criminalized</td> <td>unknown    </td> <td>5    </td>\n",
       "        </tr>\n",
       "        <tr>\n",
       "            <td>att_murder  </td> <td>ongoing    </td> <td>4    </td>\n",
       "        </tr>\n",
       "        <tr>\n",
       "            <td>attacked    </td> <td>ongoing    </td> <td>20   </td>\n",
       "        </tr>\n",
       "        <tr>\n",
       "            <td>murdered    </td> <td>ongoing    </td> <td>11   </td>\n",
       "        </tr>\n",
       "        <tr>\n",
       "            <td>threatened  </td> <td>ongoing    </td> <td>13   </td>\n",
       "        </tr>\n",
       "        <tr>\n",
       "            <td>criminalized</td> <td>no         </td> <td>9    </td>\n",
       "        </tr>\n",
       "        <tr>\n",
       "            <td>SUM         </td> <td>NA         </td> <td>62   </td>\n",
       "        </tr>\n",
       "    </tbody>\n",
       "</table>"
      ],
      "text/plain": [
       "episode      | demands_met | count\n",
       "criminalized | unknown     | 5\n",
       "att_murder   | ongoing     | 4\n",
       "attacked     | ongoing     | 20\n",
       "murdered     | ongoing     | 11\n",
       "threatened   | ongoing     | 13\n",
       "criminalized | no          | 9\n",
       "SUM          | NA          | 62"
      ]
     },
     "execution_count": 11,
     "metadata": {},
     "output_type": "execute_result"
    }
   ],
   "source": [
    "demands_met_by_episode = cleaned_table.group(make_array('episode','demands_met'))\n",
    "demands_met_by_episode = demands_met_by_episode.sort('demands_met', descending = True)\n",
    "count = demands_met_by_episode.column('count')\n",
    "totalcount = sum(count)\n",
    "totalcount\n",
    "demands_met_by_episode = demands_met_by_episode.with_row(make_array('SUM', 'NA', totalcount))\n",
    "demands_met_by_episode"
   ]
  },
  {
   "cell_type": "code",
   "execution_count": 12,
   "metadata": {},
   "outputs": [
    {
     "data": {
      "text/html": [
       "<table border=\"1\" class=\"dataframe\">\n",
       "    <thead>\n",
       "        <tr>\n",
       "            <th>gender</th> <th>count</th>\n",
       "        </tr>\n",
       "    </thead>\n",
       "    <tbody>\n",
       "        <tr>\n",
       "            <td>male  </td> <td>2    </td>\n",
       "        </tr>\n",
       "        <tr>\n",
       "            <td>nan   </td> <td>60   </td>\n",
       "        </tr>\n",
       "    </tbody>\n",
       "</table>"
      ],
      "text/plain": [
       "gender | count\n",
       "male   | 2\n",
       "nan    | 60"
      ]
     },
     "execution_count": 12,
     "metadata": {},
     "output_type": "execute_result"
    }
   ],
   "source": [
    "just_gender = cleaned_table.group('gender')\n",
    "just_gender"
   ]
  },
  {
   "cell_type": "code",
   "execution_count": 13,
   "metadata": {},
   "outputs": [],
   "source": [
    "#just_gender.barh('count')\n",
    "\n",
    "\n",
    "#election_2008_counts.barh('2008')"
   ]
  },
  {
   "cell_type": "code",
   "execution_count": 14,
   "metadata": {},
   "outputs": [
    {
     "data": {
      "text/html": [
       "<table border=\"1\" class=\"dataframe\">\n",
       "    <thead>\n",
       "        <tr>\n",
       "            <th>ej_atlas_issue</th> <th>count</th>\n",
       "        </tr>\n",
       "    </thead>\n",
       "    <tbody>\n",
       "        <tr>\n",
       "            <td>(2nd) Physical Attack on the indigenous community of the ...</td> <td>15   </td>\n",
       "        </tr>\n",
       "        <tr>\n",
       "            <td>Burning the settlements of the Tengger tribe                </td> <td>13   </td>\n",
       "        </tr>\n",
       "        <tr>\n",
       "            <td>Killing of indigenous people in Mesuji in South Sumatera    </td> <td>7    </td>\n",
       "        </tr>\n",
       "        <tr>\n",
       "            <td>Physical Attack on the indigenous community of the villa ...</td> <td>5    </td>\n",
       "        </tr>\n",
       "        <tr>\n",
       "            <td>Tungkal Ulu in south sumatera Province imprisonment         </td> <td>5    </td>\n",
       "        </tr>\n",
       "        <tr>\n",
       "            <td>Attempted murder of indigenous peoples in South Sumatera    </td> <td>4    </td>\n",
       "        </tr>\n",
       "        <tr>\n",
       "            <td>Detainment of four Tengger residents on charges of fores ...</td> <td>4    </td>\n",
       "        </tr>\n",
       "        <tr>\n",
       "            <td>Members of the Semende community of Banding Agung, Sumat ...</td> <td>4    </td>\n",
       "        </tr>\n",
       "        <tr>\n",
       "            <td>Killing of indigenous peoples in South Sumatera             </td> <td>2    </td>\n",
       "        </tr>\n",
       "        <tr>\n",
       "            <td>Killing of indigenous peoples in Sungai Sodong in South  ...</td> <td>2    </td>\n",
       "        </tr>\n",
       "        <tr>\n",
       "            <td>Arrest of Bachtiar M. sabang in South Sulawesi              </td> <td>1    </td>\n",
       "        </tr>\n",
       "    </tbody>\n",
       "</table>"
      ],
      "text/plain": [
       "<IPython.core.display.HTML object>"
      ]
     },
     "metadata": {},
     "output_type": "display_data"
    },
    {
     "data": {
      "text/html": [
       "<table border=\"1\" class=\"dataframe\">\n",
       "    <thead>\n",
       "        <tr>\n",
       "            <th>ej_atlas_issue</th> <th>location</th> <th>count</th>\n",
       "        </tr>\n",
       "    </thead>\n",
       "    <tbody>\n",
       "        <tr>\n",
       "            <td>(2nd) Physical Attack on the indigenous community of the ...</td> <td>Deli Serdang Regency, traditional community house of Sei ...</td> <td>15   </td>\n",
       "        </tr>\n",
       "        <tr>\n",
       "            <td>Burning the settlements of the Tengger tribe                </td> <td>Tengger community in Kandang Tepus village in Senduro di ...</td> <td>13   </td>\n",
       "        </tr>\n",
       "        <tr>\n",
       "            <td>Killing of indigenous people in Mesuji in South Sumatera    </td> <td>(disctrict of) Mesugi                                       </td> <td>7    </td>\n",
       "        </tr>\n",
       "        <tr>\n",
       "            <td>Physical Attack on the indigenous community of the villa ...</td> <td>Deli Serdang Regency                                        </td> <td>5    </td>\n",
       "        </tr>\n",
       "        <tr>\n",
       "            <td>Tungkal Ulu in south sumatera Province imprisonment         </td> <td>South Sumatra                                               </td> <td>5    </td>\n",
       "        </tr>\n",
       "        <tr>\n",
       "            <td>Attempted murder of indigenous peoples in South Sumatera    </td> <td>undefined region in South Sumatera                          </td> <td>4    </td>\n",
       "        </tr>\n",
       "        <tr>\n",
       "            <td>Detainment of four Tengger residents on charges of fores ...</td> <td>Tengger community in Kandang Tepus village in Senduro di ...</td> <td>4    </td>\n",
       "        </tr>\n",
       "        <tr>\n",
       "            <td>Members of the Semende community of Banding Agung, Sumat ...</td> <td>Semende community of Banding Agung, Sumatra                 </td> <td>4    </td>\n",
       "        </tr>\n",
       "        <tr>\n",
       "            <td>Killing of indigenous peoples in South Sumatera             </td> <td>undefined region in South Sumatera                          </td> <td>2    </td>\n",
       "        </tr>\n",
       "        <tr>\n",
       "            <td>Killing of indigenous peoples in Sungai Sodong in South  ...</td> <td>Sungai Sodong                                               </td> <td>2    </td>\n",
       "        </tr>\n",
       "        <tr>\n",
       "            <td>Arrest of Bachtiar M. sabang in South Sulawesi              </td> <td>South Sulawesi                                              </td> <td>1    </td>\n",
       "        </tr>\n",
       "    </tbody>\n",
       "</table>"
      ],
      "text/plain": [
       "<IPython.core.display.HTML object>"
      ]
     },
     "metadata": {},
     "output_type": "display_data"
    },
    {
     "data": {
      "text/html": [
       "<table border=\"1\" class=\"dataframe\">\n",
       "    <thead>\n",
       "        <tr>\n",
       "            <th>ej_atlas_issue</th> <th>location</th> <th>year</th> <th>company_i</th> <th>count</th>\n",
       "        </tr>\n",
       "    </thead>\n",
       "    <tbody>\n",
       "        <tr>\n",
       "            <td>(2nd) Physical Attack on the indigenous community of the ...</td> <td>Deli Serdang Regency, traditional community house of Sei ...</td> <td>2011</td> <td>PTPN 2 (state-owned plantation company)         </td> <td>15   </td>\n",
       "        </tr>\n",
       "        <tr>\n",
       "            <td>Burning the settlements of the Tengger tribe                </td> <td>Tengger community in Kandang Tepus village in Senduro di ...</td> <td>2011</td> <td>Perhutani Lumajang (state-owned logging company)</td> <td>13   </td>\n",
       "        </tr>\n",
       "        <tr>\n",
       "            <td>Killing of indigenous people in Mesuji in South Sumatera    </td> <td>(disctrict of) Mesugi                                       </td> <td>2011</td> <td>PT Treekreasi Margamulya (TM)                   </td> <td>7    </td>\n",
       "        </tr>\n",
       "        <tr>\n",
       "            <td>Physical Attack on the indigenous community of the villa ...</td> <td>Deli Serdang Regency                                        </td> <td>2011</td> <td>PTPN 2 (state-owned plantation company)         </td> <td>5    </td>\n",
       "        </tr>\n",
       "        <tr>\n",
       "            <td>Tungkal Ulu in south sumatera Province imprisonment         </td> <td>South Sumatra                                               </td> <td>2014</td> <td>nan                                             </td> <td>5    </td>\n",
       "        </tr>\n",
       "        <tr>\n",
       "            <td>Attempted murder of indigenous peoples in South Sumatera    </td> <td>undefined region in South Sumatera                          </td> <td>2011</td> <td>PT Treekreasi Margamulya (TM)                   </td> <td>4    </td>\n",
       "        </tr>\n",
       "        <tr>\n",
       "            <td>Detainment of four Tengger residents on charges of fores ...</td> <td>Tengger community in Kandang Tepus village in Senduro di ...</td> <td>2011</td> <td>Perhutani Lumajang (state-owned logging company)</td> <td>4    </td>\n",
       "        </tr>\n",
       "        <tr>\n",
       "            <td>Members of the Semende community of Banding Agung, Sumat ...</td> <td>Semende community of Banding Agung, Sumatra                 </td> <td>2014</td> <td>nan                                             </td> <td>4    </td>\n",
       "        </tr>\n",
       "        <tr>\n",
       "            <td>Killing of indigenous peoples in South Sumatera             </td> <td>undefined region in South Sumatera                          </td> <td>2011</td> <td>PT Treekreasi Margamulya (TM)                   </td> <td>2    </td>\n",
       "        </tr>\n",
       "        <tr>\n",
       "            <td>Killing of indigenous peoples in Sungai Sodong in South  ...</td> <td>Sungai Sodong                                               </td> <td>2011</td> <td>PT Treekreasi Margamulya (TM)                   </td> <td>2    </td>\n",
       "        </tr>\n",
       "        <tr>\n",
       "            <td>Arrest of Bachtiar M. sabang in South Sulawesi              </td> <td>South Sulawesi                                              </td> <td>2014</td> <td>nan                                             </td> <td>1    </td>\n",
       "        </tr>\n",
       "    </tbody>\n",
       "</table>"
      ],
      "text/plain": [
       "<IPython.core.display.HTML object>"
      ]
     },
     "metadata": {},
     "output_type": "display_data"
    }
   ],
   "source": [
    "#importing data collected as a CSV, and then uploading it into Python\n",
    "IND_data = Table().read_table(\"final clean Env_Data_IDN - IDN(trial 3).csv\")\n",
    "#accesing column names\n",
    "column_names = IND_data.labels\n",
    "column_names\n",
    "#cleaning data table\n",
    "new_table_IND = IND_data.where(\"country\", are.not_equal_to(\"EXAMPLE\"))\n",
    "cleaned_table = new_table_IND.where('country', are.equal_to('IDN'))\n",
    "cleaned_table = cleaned_table.where('ej_atlas_issue', are.not_equal_to('potenitally 700 times'))\n",
    "#grouping issues by number\n",
    "ej_atlas_issue = cleaned_table.group('ej_atlas_issue')\n",
    "sorted_ej_atlas_issue = ej_atlas_issue.sort('count', descending = True)\n",
    "sorted_ej_atlas_issue.show()\n",
    "#grouping issues by region\n",
    "issue_by_region = cleaned_table.group(make_array('ej_atlas_issue', 'location'))\n",
    "sorted_issue_by_region = issue_by_region.sort('count', descending = True)\n",
    "sorted_issue_by_region.show()\n",
    "#grouping issue, year, company, and number \n",
    "issue_region_year_company_table = cleaned_table.group(make_array('ej_atlas_issue', 'location', 'year', 'company_i'))\n",
    "sortd_issue_region_year_company_table = issue_region_year_company_table.sort('count', descending = True)\n",
    "sortd_issue_region_year_company_table.show()"
   ]
  },
  {
   "cell_type": "code",
   "execution_count": 15,
   "metadata": {},
   "outputs": [
    {
     "data": {
      "text/html": [
       "<table border=\"1\" class=\"dataframe\">\n",
       "    <thead>\n",
       "        <tr>\n",
       "            <th>ej_atlas_issue</th> <th>count</th>\n",
       "        </tr>\n",
       "    </thead>\n",
       "    <tbody>\n",
       "        <tr>\n",
       "            <td>(2nd) Physical Attack on the indigenous community of the ...</td> <td>15   </td>\n",
       "        </tr>\n",
       "        <tr>\n",
       "            <td>Burning the settlements of the Tengger tribe                </td> <td>13   </td>\n",
       "        </tr>\n",
       "        <tr>\n",
       "            <td>Killing of indigenous people in Mesuji in South Sumatera    </td> <td>7    </td>\n",
       "        </tr>\n",
       "        <tr>\n",
       "            <td>Physical Attack on the indigenous community of the villa ...</td> <td>5    </td>\n",
       "        </tr>\n",
       "        <tr>\n",
       "            <td>Tungkal Ulu in south sumatera Province imprisonment         </td> <td>5    </td>\n",
       "        </tr>\n",
       "        <tr>\n",
       "            <td>Attempted murder of indigenous peoples in South Sumatera    </td> <td>4    </td>\n",
       "        </tr>\n",
       "        <tr>\n",
       "            <td>Detainment of four Tengger residents on charges of fores ...</td> <td>4    </td>\n",
       "        </tr>\n",
       "        <tr>\n",
       "            <td>Members of the Semende community of Banding Agung, Sumat ...</td> <td>4    </td>\n",
       "        </tr>\n",
       "        <tr>\n",
       "            <td>Killing of indigenous peoples in South Sumatera             </td> <td>2    </td>\n",
       "        </tr>\n",
       "        <tr>\n",
       "            <td>Killing of indigenous peoples in Sungai Sodong in South  ...</td> <td>2    </td>\n",
       "        </tr>\n",
       "        <tr>\n",
       "            <td>Arrest of Bachtiar M. sabang in South Sulawesi              </td> <td>1    </td>\n",
       "        </tr>\n",
       "    </tbody>\n",
       "</table>"
      ],
      "text/plain": [
       "<IPython.core.display.HTML object>"
      ]
     },
     "metadata": {},
     "output_type": "display_data"
    },
    {
     "data": {
      "text/plain": [
       "11"
      ]
     },
     "execution_count": 15,
     "metadata": {},
     "output_type": "execute_result"
    }
   ],
   "source": [
    "#cleaning data table\n",
    "new_table_IND = IND_data.where(\"country\", are.not_equal_to(\"EXAMPLE\"))\n",
    "cleaned_table = new_table_IND.where('country', are.equal_to('IDN'))\n",
    "cleaned_table = cleaned_table.where('ej_atlas_issue', are.not_equal_to('potenitally 700 times'))\n",
    "#grouping issues by number\n",
    "ej_atlas_issue = cleaned_table.group('ej_atlas_issue')\n",
    "sorted_ej_atlas_issue = ej_atlas_issue.sort('count', descending = True)\n",
    "sorted_ej_atlas_issue.show()\n",
    "sorted_ej_atlas_issue.num_rows"
   ]
  },
  {
   "cell_type": "code",
   "execution_count": 16,
   "metadata": {},
   "outputs": [
    {
     "data": {
      "text/plain": [
       "('country',\n",
       " 'ej_atlas_issue',\n",
       " 'individual',\n",
       " 'gender',\n",
       " 'episode',\n",
       " 'company_i',\n",
       " 'company_ii',\n",
       " 'company_iii',\n",
       " 'location',\n",
       " 'relevant_family',\n",
       " 'affiliated_env_groups',\n",
       " 'occupation',\n",
       " 'month',\n",
       " 'day',\n",
       " 'year',\n",
       " 'date_comments',\n",
       " 'details_of_encounter',\n",
       " 'activist_demands',\n",
       " 'demands_met',\n",
       " 'explanation',\n",
       " 'affiliated_entities_t_m',\n",
       " 'suspected_perpetrator',\n",
       " 'weapon',\n",
       " 'source',\n",
       " 'media_i',\n",
       " 'media_ii',\n",
       " 'media_iii',\n",
       " 'comments')"
      ]
     },
     "execution_count": 16,
     "metadata": {},
     "output_type": "execute_result"
    }
   ],
   "source": [
    "IND_data = Table().read_table(\"final clean Env_Data_IDN - IDN(trial 3).csv\")\n",
    "column_names = IND_data.labels\n",
    "column_names"
   ]
  },
  {
   "cell_type": "code",
   "execution_count": 17,
   "metadata": {},
   "outputs": [
    {
     "data": {
      "text/html": [
       "<table border=\"1\" class=\"dataframe\">\n",
       "    <thead>\n",
       "        <tr>\n",
       "            <th>year</th> <th>ej_atlas_issue</th> <th>count</th>\n",
       "        </tr>\n",
       "    </thead>\n",
       "    <tbody>\n",
       "        <tr>\n",
       "            <td>2011</td> <td>(2nd) Physical Attack on the indigenous community of the ...</td> <td>15   </td>\n",
       "        </tr>\n",
       "        <tr>\n",
       "            <td>2011</td> <td>Attempted murder of indigenous peoples in South Sumatera    </td> <td>4    </td>\n",
       "        </tr>\n",
       "        <tr>\n",
       "            <td>2011</td> <td>Burning the settlements of the Tengger tribe                </td> <td>13   </td>\n",
       "        </tr>\n",
       "        <tr>\n",
       "            <td>2011</td> <td>Detainment of four Tengger residents on charges of fores ...</td> <td>4    </td>\n",
       "        </tr>\n",
       "        <tr>\n",
       "            <td>2011</td> <td>Killing of indigenous people in Mesuji in South Sumatera    </td> <td>7    </td>\n",
       "        </tr>\n",
       "        <tr>\n",
       "            <td>2011</td> <td>Killing of indigenous peoples in South Sumatera             </td> <td>2    </td>\n",
       "        </tr>\n",
       "        <tr>\n",
       "            <td>2011</td> <td>Killing of indigenous peoples in Sungai Sodong in South  ...</td> <td>2    </td>\n",
       "        </tr>\n",
       "        <tr>\n",
       "            <td>2011</td> <td>Physical Attack on the indigenous community of the villa ...</td> <td>5    </td>\n",
       "        </tr>\n",
       "        <tr>\n",
       "            <td>2014</td> <td>Arrest of Bachtiar M. sabang in South Sulawesi              </td> <td>1    </td>\n",
       "        </tr>\n",
       "        <tr>\n",
       "            <td>2014</td> <td>Members of the Semende community of Banding Agung, Sumat ...</td> <td>4    </td>\n",
       "        </tr>\n",
       "        <tr>\n",
       "            <td>2014</td> <td>Tungkal Ulu in south sumatera Province imprisonment         </td> <td>5    </td>\n",
       "        </tr>\n",
       "    </tbody>\n",
       "</table>"
      ],
      "text/plain": [
       "<IPython.core.display.HTML object>"
      ]
     },
     "metadata": {},
     "output_type": "display_data"
    }
   ],
   "source": [
    "issue_by_year = cleaned_table.group(make_array('year', 'ej_atlas_issue'))\n",
    "issue_by_year = issue_by_year.sort('year', descending = False)\n",
    "issue_by_year.show()"
   ]
  },
  {
   "cell_type": "code",
   "execution_count": 18,
   "metadata": {},
   "outputs": [
    {
     "data": {
      "text/html": [
       "<table border=\"1\" class=\"dataframe\">\n",
       "    <thead>\n",
       "        <tr>\n",
       "            <th>year</th> <th>ej_atlas_issue</th> <th>location</th> <th>count</th>\n",
       "        </tr>\n",
       "    </thead>\n",
       "    <tbody>\n",
       "        <tr>\n",
       "            <td>2011</td> <td>(2nd) Physical Attack on the indigenous community of the ...</td> <td>Deli Serdang Regency, traditional community house of Sei ...</td> <td>15   </td>\n",
       "        </tr>\n",
       "        <tr>\n",
       "            <td>2011</td> <td>Attempted murder of indigenous peoples in South Sumatera    </td> <td>undefined region in South Sumatera                          </td> <td>4    </td>\n",
       "        </tr>\n",
       "        <tr>\n",
       "            <td>2011</td> <td>Burning the settlements of the Tengger tribe                </td> <td>Tengger community in Kandang Tepus village in Senduro di ...</td> <td>13   </td>\n",
       "        </tr>\n",
       "        <tr>\n",
       "            <td>2011</td> <td>Detainment of four Tengger residents on charges of fores ...</td> <td>Tengger community in Kandang Tepus village in Senduro di ...</td> <td>4    </td>\n",
       "        </tr>\n",
       "        <tr>\n",
       "            <td>2011</td> <td>Killing of indigenous people in Mesuji in South Sumatera    </td> <td>(disctrict of) Mesugi                                       </td> <td>7    </td>\n",
       "        </tr>\n",
       "        <tr>\n",
       "            <td>2011</td> <td>Killing of indigenous peoples in South Sumatera             </td> <td>undefined region in South Sumatera                          </td> <td>2    </td>\n",
       "        </tr>\n",
       "        <tr>\n",
       "            <td>2011</td> <td>Killing of indigenous peoples in Sungai Sodong in South  ...</td> <td>Sungai Sodong                                               </td> <td>2    </td>\n",
       "        </tr>\n",
       "        <tr>\n",
       "            <td>2011</td> <td>Physical Attack on the indigenous community of the villa ...</td> <td>Deli Serdang Regency                                        </td> <td>5    </td>\n",
       "        </tr>\n",
       "        <tr>\n",
       "            <td>2014</td> <td>Arrest of Bachtiar M. sabang in South Sulawesi              </td> <td>South Sulawesi                                              </td> <td>1    </td>\n",
       "        </tr>\n",
       "        <tr>\n",
       "            <td>2014</td> <td>Members of the Semende community of Banding Agung, Sumat ...</td> <td>Semende community of Banding Agung, Sumatra                 </td> <td>4    </td>\n",
       "        </tr>\n",
       "        <tr>\n",
       "            <td>2014</td> <td>Tungkal Ulu in south sumatera Province imprisonment         </td> <td>South Sumatra                                               </td> <td>5    </td>\n",
       "        </tr>\n",
       "    </tbody>\n",
       "</table>"
      ],
      "text/plain": [
       "<IPython.core.display.HTML object>"
      ]
     },
     "metadata": {},
     "output_type": "display_data"
    }
   ],
   "source": [
    "issue_by_year_add_location = cleaned_table.group(make_array('year', 'ej_atlas_issue', 'location'))\n",
    "issue_by_year_add_location = issue_by_year_add_location.sort('year', descending = False)\n",
    "issue_by_year_add_location.show()"
   ]
  },
  {
   "cell_type": "code",
   "execution_count": 19,
   "metadata": {},
   "outputs": [
    {
     "data": {
      "text/html": [
       "<table border=\"1\" class=\"dataframe\">\n",
       "    <thead>\n",
       "        <tr>\n",
       "            <th>ej_atlas_issue</th> <th>episode</th> <th>company_i</th> <th>company_ii</th> <th>location</th> <th>details_of_encounter</th> <th>count</th>\n",
       "        </tr>\n",
       "    </thead>\n",
       "    <tbody>\n",
       "        <tr>\n",
       "            <td>Killing of indigenous people in Mesuji in South Sumatera</td> <td>murdered</td> <td>PT Treekreasi Margamulya (TM)</td> <td>Sumber Wangi Alam (SWA)</td> <td>(disctrict of) Mesugi</td> <td>Two Companies ( PT Treekreasi Margamulya\n",
       "(TM)/Sumber Wan ...</td> <td>7    </td>\n",
       "        </tr>\n",
       "    </tbody>\n",
       "</table>"
      ],
      "text/plain": [
       "ej_atlas_issue                                           | episode  | company_i                     | company_ii              | location              | details_of_encounter                                         | count\n",
       "Killing of indigenous people in Mesuji in South Sumatera | murdered | PT Treekreasi Margamulya (TM) | Sumber Wangi Alam (SWA) | (disctrict of) Mesugi | Two Companies ( PT Treekreasi Margamulya\n",
       "(TM)/Sumber Wan ... | 7"
      ]
     },
     "execution_count": 19,
     "metadata": {},
     "output_type": "execute_result"
    }
   ],
   "source": [
    "mesugi_case_study = cleaned_table.group(make_array('ej_atlas_issue', 'episode', \n",
    "                                        'company_i', 'company_ii', 'location','details_of_encounter'))\n",
    "mesugi_case_study = mesugi_case_study.where('ej_atlas_issue', \n",
    "                                            are.equal_to('Killing of indigenous people in Mesuji in South Sumatera'))\n",
    "mesugi_case_study"
   ]
  },
  {
   "cell_type": "code",
   "execution_count": 20,
   "metadata": {},
   "outputs": [
    {
     "data": {
      "text/html": [
       "<table border=\"1\" class=\"dataframe\">\n",
       "    <thead>\n",
       "        <tr>\n",
       "            <th>country</th> <th>ej_atlas_issue</th> <th>individual</th> <th>gender</th> <th>episode</th> <th>company_i</th> <th>company_ii</th> <th>company_iii</th> <th>location</th> <th>relevant_family</th> <th>affiliated_env_groups</th> <th>occupation</th> <th>month</th> <th>day</th> <th>year</th> <th>date_comments</th> <th>details_of_encounter</th> <th>activist_demands</th> <th>demands_met</th> <th>explanation</th> <th>affiliated_entities_t_m</th> <th>suspected_perpetrator</th> <th>weapon</th> <th>source</th> <th>media_i</th> <th>media_ii</th> <th>media_iii</th> <th>comments</th>\n",
       "        </tr>\n",
       "    </thead>\n",
       "    <tbody>\n",
       "    </tbody>\n",
       "</table>"
      ],
      "text/plain": [
       "country | ej_atlas_issue | individual | gender | episode | company_i | company_ii | company_iii | location | relevant_family | affiliated_env_groups | occupation | month | day  | year | date_comments | details_of_encounter | activist_demands | demands_met | explanation | affiliated_entities_t_m | suspected_perpetrator | weapon | source | media_i | media_ii | media_iii | comments"
      ]
     },
     "execution_count": 20,
     "metadata": {},
     "output_type": "execute_result"
    }
   ],
   "source": [
    "year = cleaned_table.where('year', are.equal_to('2010'))\n",
    "year"
   ]
  }
 ],
 "metadata": {
  "kernelspec": {
   "display_name": "Python 3",
   "language": "python",
   "name": "python3"
  },
  "language_info": {
   "codemirror_mode": {
    "name": "ipython",
    "version": 3
   },
   "file_extension": ".py",
   "mimetype": "text/x-python",
   "name": "python",
   "nbconvert_exporter": "python",
   "pygments_lexer": "ipython3",
   "version": "3.7.8"
  },
  "toc": {
   "base_numbering": 1,
   "nav_menu": {},
   "number_sections": true,
   "sideBar": true,
   "skip_h1_title": false,
   "title_cell": "Table of Contents",
   "title_sidebar": "Contents",
   "toc_cell": false,
   "toc_position": {},
   "toc_section_display": true,
   "toc_window_display": false
  }
 },
 "nbformat": 4,
 "nbformat_minor": 4
}
